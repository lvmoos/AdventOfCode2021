{
 "cells": [
  {
   "cell_type": "code",
   "execution_count": 47,
   "id": "635aff9d",
   "metadata": {},
   "outputs": [],
   "source": [
    "import pandas as pd\n",
    "import numpy as np\n",
    "import time\n",
    "import requests\n",
    "import re"
   ]
  },
  {
   "cell_type": "code",
   "execution_count": 48,
   "id": "60912fe3",
   "metadata": {},
   "outputs": [],
   "source": [
    "# Helper functions\n",
    "def timer_function(func=None, n_run=1):\n",
    "\n",
    "    ti = time.time()\n",
    "    for n in range(n_run):\n",
    "        func\n",
    "    tf = time.time()\n",
    "    \n",
    "    print(f'Runtime: {(tf - ti)/n_run} s')\n",
    "\n",
    "def read_input_pd(file_path=None):\n",
    "    df_data = pd.read_csv(file_path, sep=',', header=None)\n",
    "    \n",
    "    return df_data\n",
    "\n",
    "def read_input_lst(file_path=None):\n",
    "    with open(file_path,'r') as f:\n",
    "        lines = f.read().splitlines()\n",
    "\n",
    "    input_arr = list(lines)\n",
    "\n",
    "\n",
    "    return input_arr\n",
    "\n",
    "def scrape_data(day):\n",
    "    \"\"\"\n",
    "    fetches the input data from the website\n",
    "    day: the day of december to fetch\n",
    "    \"\"\"\n",
    "    # Fetch session cookie value from local file\n",
    "    with open(\"session.txt\",'r') as f:\n",
    "        key = f.read()\n",
    "    cookie = {'session': key}\n",
    "    url= f\"https://adventofcode.com/2021/day/{day}/input\"\n",
    "\n",
    "    with requests.Session() as s:\n",
    "        r = s.get(url, cookies = cookie).text\n",
    "        # Data always end with a blanc line. Data is split on line change\n",
    "        input_lst = re.split('\\n', r)[:-1]\n",
    "\n",
    "    return input_lst"
   ]
  },
  {
   "cell_type": "markdown",
   "id": "0d872c74",
   "metadata": {},
   "source": [
    "# December 1\n"
   ]
  },
  {
   "cell_type": "code",
   "execution_count": 78,
   "id": "b3853d31",
   "metadata": {},
   "outputs": [
    {
     "name": "stdout",
     "output_type": "stream",
     "text": [
      "Number of input rows: 2000\n"
     ]
    }
   ],
   "source": [
    "# data import\n",
    "input_test = np.array([199,200,208,210,200,207,240,269,260,263])\n",
    "input_1 = scrape_data(day=1)\n",
    "input_1 = [int(i) for i in input_1]\n",
    "print('Number of input rows:', len(input_1))"
   ]
  },
  {
   "cell_type": "code",
   "execution_count": 79,
   "id": "0fee2ddf",
   "metadata": {},
   "outputs": [
    {
     "name": "stdout",
     "output_type": "stream",
     "text": [
      "Solution december 1. - part 1:  1583\n",
      "Runtime: 1.3995647430419921e-08 s\n"
     ]
    }
   ],
   "source": [
    "# Part 1\n",
    "def dec1_part1(data):\n",
    "    answer = np.sum(np.diff(data) > 0)\n",
    "    return answer\n",
    "\n",
    "answer = dec1_part1(input_1)\n",
    "print(f'Solution december 1. - part 1: ', answer)\n",
    "timer_function(func=dec1_part1(input_1), n_run=1000000)"
   ]
  },
  {
   "cell_type": "code",
   "execution_count": 80,
   "id": "9ecb9533",
   "metadata": {},
   "outputs": [
    {
     "name": "stdout",
     "output_type": "stream",
     "text": [
      "Solution december 1. - part 2:  1627\n",
      "Runtime: 1.4998435974121095e-08 s\n"
     ]
    }
   ],
   "source": [
    "# Part 2\n",
    "def dec1_part2(data, window):\n",
    "    rolling_sum =[np.sum(data[i:i + window]) for i in range(0, len(data) + 1 - window)]\n",
    "    answer = dec1_part1(rolling_sum)\n",
    "\n",
    "    return rolling_sum, answer\n",
    "\n",
    "rolling_sum, answer = dec1_part2(input_1, window=3)\n",
    "print(f'Solution december 1. - part 2: ', answer)\n",
    "timer_function(func=dec1_part2(input_1, window=3), n_run=1000000)"
   ]
  },
  {
   "cell_type": "markdown",
   "id": "f1361a8b",
   "metadata": {},
   "source": [
    "# December 2\n"
   ]
  },
  {
   "cell_type": "code",
   "execution_count": 67,
   "id": "c17f8729",
   "metadata": {},
   "outputs": [
    {
     "name": "stdout",
     "output_type": "stream",
     "text": [
      "Number of input rows: 1000\n"
     ]
    }
   ],
   "source": [
    "input_test = ['forward 5','down 5','forward 8','up 3','down 8','forward 2']\n",
    "input_2 = scrape_data(day=2)\n",
    "print('Number of input rows:', len(input_2))"
   ]
  },
  {
   "cell_type": "code",
   "execution_count": 69,
   "id": "ddf77bcd",
   "metadata": {},
   "outputs": [
    {
     "name": "stdout",
     "output_type": "stream",
     "text": [
      "Position (horizontal/vertical): 1939.0 , 1109.0\n",
      "Solution:  2150351.0\n",
      "Runtime: 1.9991397857666014e-08 s\n"
     ]
    }
   ],
   "source": [
    "# Solution and test input\n",
    "def split_direction(df, direction, sign):\n",
    "    mask = df['raw'].str.contains(direction)\n",
    "    df.loc[mask, 'direction'] = direction[0]\n",
    "    df.loc[mask, 'step'] = df.loc[mask, 'raw'].str.replace(direction, '').astype(int)*sign\n",
    "    \n",
    "    return df\n",
    "\n",
    "def dec2_part1(data):\n",
    "    df_data = pd.DataFrame(data).rename(columns={0:'raw'})\n",
    "    \n",
    "    df_data = split_direction(df_data, 'forward ', +1)\n",
    "    df_data = split_direction(df_data, 'down ', +1)\n",
    "    df_data = split_direction(df_data, 'up ', -1)\n",
    "    \n",
    "    mask_fwd = df_data['direction'] == 'f'\n",
    "    pos_horizontal = df_data.loc[mask_fwd, 'step'].sum()\n",
    "    pos_vertical = df_data.loc[~mask_fwd, 'step'].sum()\n",
    "    \n",
    "    answer = pos_horizontal*pos_vertical\n",
    "    \n",
    "    return pos_horizontal, pos_vertical, df_data, answer\n",
    "\n",
    "\n",
    "pos_horizontal, pos_vertical, df_input, answer = dec2_part1(input_2)\n",
    "print(f'Position (horizontal/vertical):', pos_horizontal, ',',pos_vertical)\n",
    "print(f'Solution: ', answer)\n",
    "timer_function(func=dec2_part1(input_2), n_run=100000)"
   ]
  },
  {
   "cell_type": "code",
   "execution_count": 71,
   "id": "63819243",
   "metadata": {},
   "outputs": [
    {
     "name": "stdout",
     "output_type": "stream",
     "text": [
      "Position (horizontal/vertical): 1939.0 , 950357.0\n",
      "Solution:  1842742223.0\n",
      "Runtime: 1.5710687637329103e-08 s\n"
     ]
    }
   ],
   "source": [
    "# December  2 - Part 2\n",
    "def dec2_part2(df):    \n",
    "    mask_fwd = df['direction'] == 'f'\n",
    "    \n",
    "    df['aim_step'] = 0\n",
    "    df.loc[~mask_fwd, 'aim_step'] = df.loc[~mask_fwd, 'step']\n",
    "    df['aim'] = df['aim_step'].cumsum()\n",
    "\n",
    "    pos_horizontal = df.loc[mask_fwd, 'step'].sum()\n",
    "    pos_vertical = (df.loc[mask_fwd, 'step']*df.loc[mask_fwd, 'aim']).sum()\n",
    "    \n",
    "    answer = pos_horizontal*pos_vertical\n",
    "    \n",
    "    return pos_horizontal, pos_vertical, df, answer\n",
    "\n",
    "pos_horizontal, pos_vertical, df_input, answer = dec2_part2(df_input)\n",
    "print(f'Position (horizontal/vertical):', pos_horizontal, ',',pos_vertical)\n",
    "print(f'Solution: ', answer)\n",
    "timer_function(func=dec2_part2(df_input), n_run=10000000)"
   ]
  },
  {
   "cell_type": "markdown",
   "id": "1acc5911",
   "metadata": {},
   "source": [
    "# December 3"
   ]
  },
  {
   "cell_type": "code",
   "execution_count": 73,
   "id": "85af412e",
   "metadata": {},
   "outputs": [
    {
     "name": "stdout",
     "output_type": "stream",
     "text": [
      "Number of input rows: 1000\n"
     ]
    }
   ],
   "source": [
    "input_test = ['00100','11110','10110','10111','10101','01111','00111','11100','10000','11001','00010','01010']\n",
    "input_3 = scrape_data(day=3)\n",
    "print('Number of input rows:', len(input_3))"
   ]
  },
  {
   "cell_type": "code",
   "execution_count": 74,
   "id": "53283125",
   "metadata": {},
   "outputs": [
    {
     "name": "stdout",
     "output_type": "stream",
     "text": [
      "('010001110111', '101110001000', 3374136)\n",
      "Runtime: 1.4997005462646484e-08 s\n"
     ]
    }
   ],
   "source": [
    "# Solution part 1 and test\n",
    "def dec3_part1(data):\n",
    "    n_digit = len(data[0])\n",
    "    n_row = len(data)\n",
    "    \n",
    "    digit_sum = np.zeros(n_digit)\n",
    "    \n",
    "    for row in data:\n",
    "        row_lst = [int(i) for i in row]\n",
    "        digit_sum = np.add(digit_sum, row_lst)\n",
    "    \n",
    "    mask = digit_sum >= n_row/2\n",
    "    gamma = ''.join(map(str, 1*(mask)))\n",
    "    epsilon = ''.join(map(str, 1*(~mask)))\n",
    "    \n",
    "    answer = int(gamma,2)*int(epsilon,2)\n",
    "    \n",
    "    return gamma, epsilon, answer\n",
    "    \n",
    "print(dec3_part1(input_3))\n",
    "timer_function(func=dec3_part1(input_3), n_run=1000000)"
   ]
  },
  {
   "cell_type": "code",
   "execution_count": 75,
   "id": "71b79b8e",
   "metadata": {},
   "outputs": [
    {
     "name": "stdout",
     "output_type": "stream",
     "text": [
      "('011101110101', '100100010010', 4432698)\n",
      "Runtime: 1.5999317169189453e-08 s\n"
     ]
    }
   ],
   "source": [
    "def find_rating(rating, bit):\n",
    "    n_digit = len(rating[0])\n",
    "    n_row = len(rating)\n",
    "    idx = 0\n",
    "    \n",
    "    while (len(rating) > 1) & (idx < n_digit):\n",
    "        digit_sum = 0\n",
    "        for row in rating:\n",
    "            digit_sum += int(row[idx])\n",
    "            \n",
    "        digit_even = digit_sum == len(rating)/2\n",
    "        \n",
    "        if digit_even:\n",
    "            rating = [entry for entry in rating if entry[idx] == bit]\n",
    "        else:\n",
    "            if bit == '0':\n",
    "                digit_match = 1*(digit_sum < len(rating)/2)\n",
    "            else:\n",
    "                digit_match = 1*(digit_sum > len(rating)/2)\n",
    "\n",
    "            rating = [entry for entry in rating if entry[idx] == str(digit_match)]\n",
    "\n",
    "        idx += 1\n",
    "    \n",
    "    # select the only remaining correct entry if more exist\n",
    "    rating = [entry for entry in rating if entry[-1] == bit][0]\n",
    "    \n",
    "    return rating\n",
    "\n",
    "def dec3_part2(data):\n",
    "    o_rating = find_rating(rating=data, bit='1')\n",
    "    co2_rating = find_rating(rating=data, bit='0')\n",
    "        \n",
    "    answer = int(o_rating,2)*int(co2_rating,2)\n",
    "    \n",
    "    return o_rating, co2_rating, answer\n",
    "\n",
    "print(dec3_part2(input_3))\n",
    "timer_function(func=dec3_part2(input_3), n_run=1000000)"
   ]
  }
 ],
 "metadata": {
  "kernelspec": {
   "display_name": "Python 3 (ipykernel)",
   "language": "python",
   "name": "python3"
  },
  "language_info": {
   "codemirror_mode": {
    "name": "ipython",
    "version": 3
   },
   "file_extension": ".py",
   "mimetype": "text/x-python",
   "name": "python",
   "nbconvert_exporter": "python",
   "pygments_lexer": "ipython3",
   "version": "3.9.9"
  }
 },
 "nbformat": 4,
 "nbformat_minor": 5
}
