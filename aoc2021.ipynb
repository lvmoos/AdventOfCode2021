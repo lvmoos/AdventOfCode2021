{
 "cells": [
  {
   "cell_type": "code",
   "execution_count": 1,
   "id": "635aff9d",
   "metadata": {},
   "outputs": [],
   "source": [
    "import pandas as pd\n",
    "import numpy as np\n",
    "import time\n",
    "import requests\n",
    "import re"
   ]
  },
  {
   "cell_type": "code",
   "execution_count": 2,
   "id": "60912fe3",
   "metadata": {},
   "outputs": [],
   "source": [
    "# Helper functions\n",
    "def timer_function(func, data, n_run=1):\n",
    "    ti = time.time()\n",
    "    for i in range(n_run):\n",
    "        func(data)\n",
    "    tf = time.time()\n",
    "    \n",
    "    print(f'Runtime: {(tf - ti)/n_run} s')\n",
    "\n",
    "def read_input_pd(file_path=None):\n",
    "    df_data = pd.read_csv(file_path, sep=',', header=None)\n",
    "    \n",
    "    return df_data\n",
    "\n",
    "def read_input_lst(file_path=None):\n",
    "    with open(file_path,'r') as f:\n",
    "        lines = f.read().splitlines()\n",
    "\n",
    "    input_arr = list(lines)\n",
    "\n",
    "\n",
    "    return input_arr\n",
    "\n",
    "def scrape_data(day):\n",
    "    \"\"\"\n",
    "    fetches the input data from the website\n",
    "    day: the day of december to fetch\n",
    "    \"\"\"\n",
    "    # Fetch session cookie value from local file\n",
    "    with open(\"session.txt\",'r') as f:\n",
    "        key = f.read()\n",
    "    cookie = {'session': key}\n",
    "    url= f\"https://adventofcode.com/2021/day/{day}/input\"\n",
    "\n",
    "    with requests.Session() as s:\n",
    "        r = s.get(url, cookies = cookie).text\n",
    "        # Data always end with a blanc line. Data is split on line change\n",
    "        input_lst = re.split('\\n', r)[:-1]\n",
    "\n",
    "    return input_lst"
   ]
  },
  {
   "cell_type": "markdown",
   "id": "0d872c74",
   "metadata": {},
   "source": [
    "# December 1\n"
   ]
  },
  {
   "cell_type": "code",
   "execution_count": 3,
   "id": "b3853d31",
   "metadata": {},
   "outputs": [
    {
     "name": "stdout",
     "output_type": "stream",
     "text": [
      "Number of input rows: 2000\n"
     ]
    }
   ],
   "source": [
    "# data import\n",
    "input_test = np.array([199,200,208,210,200,207,240,269,260,263])\n",
    "input_1 = scrape_data(day=1)\n",
    "input_1 = [int(i) for i in input_1]\n",
    "print('Number of input rows:', len(input_1))"
   ]
  },
  {
   "cell_type": "code",
   "execution_count": 4,
   "id": "0fee2ddf",
   "metadata": {},
   "outputs": [
    {
     "name": "stdout",
     "output_type": "stream",
     "text": [
      "Solution december 1. - part 1:  1583\n",
      "Runtime: 0.0001440882682800293 s\n"
     ]
    }
   ],
   "source": [
    "# Part 1\n",
    "def dec1_part1(data):\n",
    "    answer = np.sum(np.diff(data) > 0)\n",
    "    return answer\n",
    "\n",
    "answer = dec1_part1(input_1)\n",
    "print(f'Solution december 1. - part 1: ', answer)\n",
    "timer_function(func=dec1_part1, data=input_1, n_run=1000)"
   ]
  },
  {
   "cell_type": "code",
   "execution_count": 5,
   "id": "9ecb9533",
   "metadata": {},
   "outputs": [
    {
     "name": "stdout",
     "output_type": "stream",
     "text": [
      "Solution december 1. - part 2:  1627\n",
      "Runtime: 0.008801865577697753 s\n"
     ]
    }
   ],
   "source": [
    "# Part 2\n",
    "def dec1_part2(data):\n",
    "    window = 3\n",
    "    rolling_sum =[np.sum(data[i:i + window]) for i in range(0, len(data) + 1 - window)]\n",
    "    answer = dec1_part1(rolling_sum)\n",
    "\n",
    "    return rolling_sum, answer\n",
    "\n",
    "rolling_sum, answer = dec1_part2(input_1)\n",
    "print(f'Solution december 1. - part 2: ', answer)\n",
    "timer_function(func=dec1_part2,data=input_1, n_run=10)"
   ]
  },
  {
   "cell_type": "markdown",
   "id": "f1361a8b",
   "metadata": {},
   "source": [
    "# December 2\n"
   ]
  },
  {
   "cell_type": "code",
   "execution_count": 6,
   "id": "c17f8729",
   "metadata": {},
   "outputs": [
    {
     "name": "stdout",
     "output_type": "stream",
     "text": [
      "Number of input rows: 1000\n"
     ]
    }
   ],
   "source": [
    "input_test = ['forward 5','down 5','forward 8','up 3','down 8','forward 2']\n",
    "input_2 = scrape_data(day=2)\n",
    "print('Number of input rows:', len(input_2))"
   ]
  },
  {
   "cell_type": "code",
   "execution_count": 7,
   "id": "ddf77bcd",
   "metadata": {},
   "outputs": [
    {
     "name": "stdout",
     "output_type": "stream",
     "text": [
      "Position (horizontal/vertical): 1939.0 , 1109.0\n",
      "Solution:  2150351.0\n",
      "Runtime: 0.007203125953674316 s\n"
     ]
    }
   ],
   "source": [
    "# Solution and test input\n",
    "def split_direction(df, direction, sign):\n",
    "    mask = df['raw'].str.contains(direction)\n",
    "    df.loc[mask, 'direction'] = direction[0]\n",
    "    df.loc[mask, 'step'] = df.loc[mask, 'raw'].str.replace(direction, '').astype(int)*sign\n",
    "    \n",
    "    return df\n",
    "\n",
    "def dec2_part1(data):\n",
    "    df_data = pd.DataFrame(data).rename(columns={0:'raw'})\n",
    "    \n",
    "    df_data = split_direction(df_data, 'forward ', +1)\n",
    "    df_data = split_direction(df_data, 'down ', +1)\n",
    "    df_data = split_direction(df_data, 'up ', -1)\n",
    "    \n",
    "    mask_fwd = df_data['direction'] == 'f'\n",
    "    pos_horizontal = df_data.loc[mask_fwd, 'step'].sum()\n",
    "    pos_vertical = df_data.loc[~mask_fwd, 'step'].sum()\n",
    "    \n",
    "    answer = pos_horizontal*pos_vertical\n",
    "    \n",
    "    return pos_horizontal, pos_vertical, df_data, answer\n",
    "\n",
    "\n",
    "pos_horizontal, pos_vertical, df_input, answer = dec2_part1(input_2)\n",
    "print(f'Position (horizontal/vertical):', pos_horizontal, ',',pos_vertical)\n",
    "print(f'Solution: ', answer)\n",
    "timer_function(func=dec2_part1,data=input_2, n_run=10)"
   ]
  },
  {
   "cell_type": "code",
   "execution_count": 8,
   "id": "63819243",
   "metadata": {},
   "outputs": [
    {
     "name": "stdout",
     "output_type": "stream",
     "text": [
      "Position (horizontal/vertical): 1939.0 , 950357.0\n",
      "Solution:  1842742223.0\n",
      "Runtime: 0.0018006563186645508 s\n"
     ]
    }
   ],
   "source": [
    "# December  2 - Part 2\n",
    "def dec2_part2(df):    \n",
    "    mask_fwd = df['direction'] == 'f'\n",
    "    \n",
    "    df['aim_step'] = 0\n",
    "    df.loc[~mask_fwd, 'aim_step'] = df.loc[~mask_fwd, 'step']\n",
    "    df['aim'] = df['aim_step'].cumsum()\n",
    "\n",
    "    pos_horizontal = df.loc[mask_fwd, 'step'].sum()\n",
    "    pos_vertical = (df.loc[mask_fwd, 'step']*df.loc[mask_fwd, 'aim']).sum()\n",
    "    \n",
    "    answer = pos_horizontal*pos_vertical\n",
    "    \n",
    "    return pos_horizontal, pos_vertical, df, answer\n",
    "\n",
    "pos_horizontal, pos_vertical, df_input, answer = dec2_part2(df_input)\n",
    "print(f'Position (horizontal/vertical):', pos_horizontal, ',',pos_vertical)\n",
    "print(f'Solution: ', answer)\n",
    "timer_function(func=dec2_part2,data=df_input, n_run=10)"
   ]
  },
  {
   "cell_type": "markdown",
   "id": "1acc5911",
   "metadata": {},
   "source": [
    "# December 3"
   ]
  },
  {
   "cell_type": "code",
   "execution_count": 9,
   "id": "85af412e",
   "metadata": {},
   "outputs": [
    {
     "name": "stdout",
     "output_type": "stream",
     "text": [
      "Number of input rows: 1000\n"
     ]
    }
   ],
   "source": [
    "input_test = ['00100','11110','10110','10111','10101','01111','00111','11100','10000','11001','00010','01010']\n",
    "input_3 = scrape_data(day=3)\n",
    "print('Number of input rows:', len(input_3))"
   ]
  },
  {
   "cell_type": "code",
   "execution_count": 10,
   "id": "53283125",
   "metadata": {},
   "outputs": [
    {
     "name": "stdout",
     "output_type": "stream",
     "text": [
      "('010001110111', '101110001000', 3374136)\n",
      "Runtime: 0.004100656509399414 s\n"
     ]
    }
   ],
   "source": [
    "# Solution part 1 and test\n",
    "def dec3_part1(data):\n",
    "    n_digit = len(data[0])\n",
    "    n_row = len(data)\n",
    "    \n",
    "    digit_sum = np.zeros(n_digit)\n",
    "    \n",
    "    for row in data:\n",
    "        row_lst = [int(i) for i in row]\n",
    "        digit_sum = np.add(digit_sum, row_lst)\n",
    "    \n",
    "    mask = digit_sum >= n_row/2\n",
    "    gamma = ''.join(map(str, 1*(mask)))\n",
    "    epsilon = ''.join(map(str, 1*(~mask)))\n",
    "    \n",
    "    answer = int(gamma,2)*int(epsilon,2)\n",
    "    \n",
    "    return gamma, epsilon, answer\n",
    "    \n",
    "print(dec3_part1(input_3))\n",
    "timer_function(func=dec3_part1,data=input_3, n_run=10)"
   ]
  },
  {
   "cell_type": "code",
   "execution_count": 11,
   "id": "71b79b8e",
   "metadata": {},
   "outputs": [
    {
     "name": "stdout",
     "output_type": "stream",
     "text": [
      "('011101110101', '100100010010', 4432698)\n",
      "Runtime: 0.001200103759765625 s\n"
     ]
    }
   ],
   "source": [
    "def find_rating(rating, bit):\n",
    "    n_digit = len(rating[0])\n",
    "    n_row = len(rating)\n",
    "    idx = 0\n",
    "    \n",
    "    while (len(rating) > 1) & (idx < n_digit):\n",
    "        half_len = len(rating)/2\n",
    "        digit_sum = 0\n",
    "        for row in rating:\n",
    "            digit_sum += int(row[idx])\n",
    "            \n",
    "        digit_even = digit_sum == half_len\n",
    "        \n",
    "        if digit_even:\n",
    "            rating = [entry for entry in rating if entry[idx] == bit]\n",
    "        else:\n",
    "            if bit == '0':\n",
    "                digit_match = 1*(digit_sum < half_len)\n",
    "            else:\n",
    "                digit_match = 1*(digit_sum > half_len)\n",
    "\n",
    "            rating = [entry for entry in rating if entry[idx] == str(digit_match)]\n",
    "\n",
    "        idx += 1\n",
    "    \n",
    "    # select the only remaining correct entry if more exist\n",
    "    rating = [entry for entry in rating if entry[-1] == bit][0]\n",
    "    \n",
    "    return rating\n",
    "\n",
    "def dec3_part2(data):\n",
    "    o_rating = find_rating(rating=data, bit='1')\n",
    "    co2_rating = find_rating(rating=data, bit='0')\n",
    "        \n",
    "    answer = int(o_rating,2)*int(co2_rating,2)\n",
    "    \n",
    "    return o_rating, co2_rating, answer\n",
    "\n",
    "print(dec3_part2(input_3))\n",
    "timer_function(func=dec3_part2,data=input_3, n_run=10)"
   ]
  },
  {
   "cell_type": "markdown",
   "id": "b14f4666",
   "metadata": {},
   "source": [
    "# December 4"
   ]
  },
  {
   "cell_type": "code",
   "execution_count": 12,
   "id": "9ea05c5e",
   "metadata": {},
   "outputs": [],
   "source": [
    "input_test = [\n",
    "    '7,4,9,5,11,17,23,2,0,14,21,24,10,16,13,6,15,25,12,22,18,20,8,19,3,26,1',\n",
    "    '',\n",
    "    '22 13 17 11  0',\n",
    "    '8  2 23  4 24',\n",
    "    '21  9 14 16  7',\n",
    "    '6 10  3 18  5',\n",
    "     '1 12 20 15 19',\n",
    "    '',\n",
    "    '3 15  0  2 22',\n",
    "    '9 18 13 17  5',\n",
    "    '19  8  7 25 23',\n",
    "    '20 11 10 24  4',\n",
    "    '14 21 16 12  6',\n",
    "    '',\n",
    "    '14 21 17 24  4',\n",
    "    '10 16 15  9 19',\n",
    "    '18  8 23 26 20',\n",
    "    '22 11 13  6  5',\n",
    "     '2  0 12  3  7']\n",
    "input_4 = scrape_data(day=4)"
   ]
  },
  {
   "cell_type": "code",
   "execution_count": 13,
   "id": "e3c92e57",
   "metadata": {},
   "outputs": [],
   "source": [
    "def create_data_structure(data):\n",
    "    numbers = list(map(int, re.split(',', data[0])))\n",
    "    idx_start = 2\n",
    "    idx_end = len(data) - 1\n",
    "    n_size = 5\n",
    "\n",
    "    boards = []\n",
    "    for board_start in range(idx_start, idx_end, n_size + 1):\n",
    "        board = []\n",
    "        for idx in range(board_start, board_start + n_size):\n",
    "            board.append(list(map(int, re.split('\\s+', data[idx].strip()))))\n",
    "\n",
    "\n",
    "        for col in np.transpose(board):\n",
    "            board.append(col)\n",
    "            \n",
    "        boards.append(board)\n",
    "\n",
    "    board_sets = [[set(row) for row in board] for board in boards]\n",
    "    return numbers, board_sets\n",
    "\n",
    "numbers, board_sets = create_data_structure(input_4)"
   ]
  },
  {
   "cell_type": "code",
   "execution_count": 14,
   "id": "b5a35bd1",
   "metadata": {},
   "outputs": [
    {
     "name": "stdout",
     "output_type": "stream",
     "text": [
      "Answer: (99, 46920)\n",
      "Runtime: 0.004499554634094238 s\n"
     ]
    }
   ],
   "source": [
    "def dec4_part1(data):\n",
    "    numbers, board_sets = create_data_structure(data)\n",
    "    \n",
    "    keep_going = True\n",
    "    for idx, n in enumerate(numbers):\n",
    "        for n_board, board in enumerate(board_sets):\n",
    "            for row in board:\n",
    "                row.discard(n)\n",
    "\n",
    "                if len(row) == 0:\n",
    "                    keep_going = False\n",
    "                    board_winner = board\n",
    "\n",
    "        if keep_going:\n",
    "            continue\n",
    "        else:\n",
    "            break\n",
    "            \n",
    "            \n",
    "    remainders = set(i for row in board_winner for i in row)\n",
    "    winner_board = idx\n",
    "    answer = sum(remainders)*n\n",
    "    return n_board, answer\n",
    "\n",
    "print('Answer:', dec4_part1(input_4))\n",
    "timer_function(func=dec4_part1,data=input_4, n_run=10)"
   ]
  },
  {
   "cell_type": "code",
   "execution_count": 15,
   "id": "9b2e5707",
   "metadata": {},
   "outputs": [
    {
     "name": "stdout",
     "output_type": "stream",
     "text": [
      "Answer: 12635\n",
      "Runtime: 0.008201074600219727 s\n"
     ]
    }
   ],
   "source": [
    "def dec4_part2(data):\n",
    "    numbers, board_sets = create_data_structure(data)\n",
    "    keep_going = True\n",
    "    for idx, n in enumerate(numbers):\n",
    "        del_board = []\n",
    "        for n_board, board in enumerate(board_sets):\n",
    "\n",
    "            for row in board:\n",
    "                row.discard(n)\n",
    "                if len(row) == 0:\n",
    "                    del_board.append(n_board)\n",
    "                    last_board = board\n",
    "        \n",
    "        if len(del_board)>0:\n",
    "            board_tmp = board_sets.copy()\n",
    "            \n",
    "            for board in set(del_board):\n",
    "                board_sets.remove(board_tmp[board])\n",
    "            \n",
    "            if len(board_sets) == 0:\n",
    "                keep_going = False\n",
    "\n",
    "        if keep_going:\n",
    "            continue\n",
    "        else:\n",
    "            break\n",
    "            \n",
    "            \n",
    "    remainders = set(i for row in last_board for i in row)\n",
    "    answer = sum(remainders)*n\n",
    "    return answer\n",
    "\n",
    "\n",
    "print('Answer:', dec4_part2(input_4))\n",
    "timer_function(func=dec4_part2,data=input_4, n_run=10)"
   ]
  },
  {
   "cell_type": "markdown",
   "id": "412bfa19",
   "metadata": {},
   "source": [
    "# December 5"
   ]
  },
  {
   "cell_type": "code",
   "execution_count": 16,
   "id": "c459f0d6",
   "metadata": {},
   "outputs": [],
   "source": [
    "input_test = [\n",
    "    '0,9 -> 5,9',\n",
    "    '8,0 -> 0,8',\n",
    "    '9,4 -> 3,4',\n",
    "    '2,2 -> 2,1',\n",
    "    '7,0 -> 7,4',\n",
    "    '6,4 -> 2,0',\n",
    "    '0,9 -> 2,9',\n",
    "    '3,4 -> 1,4',\n",
    "    '0,0 -> 8,8',\n",
    "    '5,5 -> 8,2']\n",
    "input_5 = scrape_data(day=5)"
   ]
  },
  {
   "cell_type": "code",
   "execution_count": 17,
   "id": "c8dbb4df",
   "metadata": {},
   "outputs": [
    {
     "name": "stdout",
     "output_type": "stream",
     "text": [
      "Answer: 8060\n",
      "Runtime: 0.05291273593902588 s\n"
     ]
    }
   ],
   "source": [
    "# Part 1\n",
    "def data_prep(data):\n",
    "    data_clean = [tuple(map(int, row.replace(' -> ', ',').split(','))) for row in data]\n",
    "    \n",
    "    n_size = np.max(data_clean) + 1\n",
    "    \n",
    "    grid = np.zeros((n_size,n_size))\n",
    "    \n",
    "    return data_clean, grid\n",
    "\n",
    "def add_line(coords):\n",
    "    if coords[0] == coords[2]:\n",
    "        x = coords[0]\n",
    "        y1 = min(coords[1], coords[3])\n",
    "        y2 = max(coords[1], coords[3])\n",
    "\n",
    "        for yi in range(y1,y2+1):\n",
    "            grid[yi][x] += 1\n",
    "    else:\n",
    "        y = coords[1]\n",
    "        x1 = min(coords[0], coords[2])\n",
    "        x2 = max(coords[0], coords[2])\n",
    "\n",
    "        for xi in range(x1,x2+1):\n",
    "            grid[y][xi] += 1\n",
    "\n",
    "def dec5_part1(data):\n",
    "    for coord in line_coords:\n",
    "        add_line(coords=coord)\n",
    "    return np.sum(grid > 1)\n",
    "\n",
    "\n",
    "line_coords, grid = data_prep(input_5)\n",
    "# ONly horizontal/vertical\n",
    "line_coords = [row for row in line_coords if (row[0]==row[2]) | (row[1]==row[3])]\n",
    "\n",
    "print('Answer:', dec5_part1(line_coords))\n",
    "timer_function(func=dec5_part1,data=input_5, n_run=10)"
   ]
  },
  {
   "cell_type": "code",
   "execution_count": 18,
   "id": "eb35d105",
   "metadata": {},
   "outputs": [
    {
     "name": "stdout",
     "output_type": "stream",
     "text": [
      "Answer: 21577\n",
      "Runtime: 0.09313132762908935 s\n"
     ]
    }
   ],
   "source": [
    "# Part 2\n",
    "def add_line_diag(coords):\n",
    "    x1, y1, x2, y2 = coords\n",
    "    x_step = np.sign(x2 - x1)\n",
    "    y_step = np.sign(y2 - y1)\n",
    "    \n",
    "\n",
    "    if x1 == x2:\n",
    "        for yi in range(y1, y2 + y_step, y_step):\n",
    "            grid[yi][x1] += 1\n",
    "    elif y1 == y2:\n",
    "        for xi in range(x1, x2 + x_step, x_step):\n",
    "            grid[y1][xi] += 1\n",
    "    else:\n",
    "        for xi,yi in zip(range(x1, x2 + x_step, x_step), range(y1, y2 + y_step, y_step)):\n",
    "            grid[yi][xi] += 1\n",
    "            \n",
    "\n",
    "def dec5_part2(data):\n",
    "    for coord in line_coords:\n",
    "        add_line_diag(coords=coord)\n",
    "    return np.sum(grid > 1)\n",
    "\n",
    "line_coords, grid = data_prep(input_5)\n",
    "print('Answer:', dec5_part2(line_coords))\n",
    "timer_function(func=dec5_part2,data=input_5, n_run=10)"
   ]
  },
  {
   "cell_type": "markdown",
   "id": "e399d35d",
   "metadata": {},
   "source": [
    "# December 6"
   ]
  },
  {
   "cell_type": "code",
   "execution_count": 19,
   "id": "3f07a995",
   "metadata": {},
   "outputs": [
    {
     "data": {
      "text/plain": [
       "[3, 4, 3, 1, 2]"
      ]
     },
     "execution_count": 19,
     "metadata": {},
     "output_type": "execute_result"
    }
   ],
   "source": [
    "input_test = list(map(int, ['3,4,3,1,2'][0].split(',')))\n",
    "input_6 = list(map(int, scrape_data(day=6)[0].split(',')))\n",
    "input_test"
   ]
  },
  {
   "cell_type": "code",
   "execution_count": 20,
   "id": "00dfd30e",
   "metadata": {
    "scrolled": true
   },
   "outputs": [
    {
     "name": "stdout",
     "output_type": "stream",
     "text": [
      "Answer: 362346\n",
      "Runtime: 0.04811081886291504 s\n"
     ]
    }
   ],
   "source": [
    "# Part 1\n",
    "def dec6_part1(fish_pop_initial):\n",
    "    days = 80\n",
    "    fish_pop = np.array(fish_pop_initial.copy(), dtype=int)\n",
    "    for day in range(1, days + 1):\n",
    "        mask_reset = fish_pop == 0\n",
    "\n",
    "        fish_pop -= 1*(fish_pop >= 0)\n",
    "\n",
    "        fish_pop[mask_reset] = 6\n",
    "        fish_pop = np.append(fish_pop, np.sum(mask_reset, dtype=int)*[8])\n",
    "\n",
    "    return fish_pop.astype(int)\n",
    "\n",
    "print('Answer:', len(dec6_part1(input_6)))\n",
    "timer_function(func=dec6_part1,data=input_6,n_run=10)"
   ]
  },
  {
   "cell_type": "code",
   "execution_count": 21,
   "id": "39a61b2d",
   "metadata": {},
   "outputs": [
    {
     "name": "stdout",
     "output_type": "stream",
     "text": [
      "Answer: 1639643057051.0\n",
      "Runtime: 0.005609703063964844 s\n"
     ]
    }
   ],
   "source": [
    "# Part 2\n",
    "def dec6_part2(fish_pop_initial):\n",
    "    days = 256\n",
    "    # Initial states of fish\n",
    "    fish_states = np.zeros([9])\n",
    "    for fish in fish_pop_initial:\n",
    "        fish_states[fish] += 1\n",
    "    \n",
    "    # fish evolving logic\n",
    "    evolve_map = [\n",
    "        np.array([-1, 0, 0, 0, 0, 0, 1, 0, 1]),\n",
    "        np.array([1, -1, 0, 0, 0, 0, 0, 0, 0]),\n",
    "        np.array([0, 1, -1, 0, 0, 0, 0, 0, 0]),\n",
    "        np.array([0, 0, 1, -1, 0, 0, 0, 0, 0]),\n",
    "        np.array([0, 0, 0, 1, -1, 0, 0, 0, 0]),\n",
    "        np.array([0, 0, 0, 0, 1, -1, 0, 0, 0]),\n",
    "        np.array([0, 0, 0, 0, 0, 1, -1, 0, 0]),\n",
    "        np.array([0, 0, 0, 0, 0, 0, 1, -1, 0]),\n",
    "        np.array([0, 0, 0, 0, 0, 0, 0, 1, -1])]\n",
    "    \n",
    "    # fish population evolution\n",
    "    for day in range(1, days + 1):\n",
    "        for state, count in enumerate(fish_states):\n",
    "            fish_states = fish_states + count*evolve_map[state]\n",
    "        \n",
    "    return np.sum(fish_states)\n",
    "\n",
    "print('Answer:', dec6_part2(input_6))\n",
    "timer_function(func=dec6_part2,data=input_6,n_run=10)"
   ]
  },
  {
   "cell_type": "markdown",
   "id": "d7c442eb",
   "metadata": {},
   "source": [
    "# December 7"
   ]
  },
  {
   "cell_type": "code",
   "execution_count": 22,
   "id": "4a580f14",
   "metadata": {},
   "outputs": [
    {
     "name": "stdout",
     "output_type": "stream",
     "text": [
      "Input length: 1000\n",
      "Test input: [16, 1, 2, 0, 4, 2, 7, 1, 2, 14]\n"
     ]
    }
   ],
   "source": [
    "input_test = list(map(int,['16,1,2,0,4,2,7,1,2,14'][0].split(',')))\n",
    "input_7 = list(map(int,scrape_data(7)[0].split(',')))\n",
    "print('Input length:', len(input_7))\n",
    "print('Test input:', input_test)"
   ]
  },
  {
   "cell_type": "code",
   "execution_count": 23,
   "id": "ba37f632",
   "metadata": {},
   "outputs": [
    {
     "name": "stdout",
     "output_type": "stream",
     "text": [
      "Optimal position 331 cost a fuel total of 349769\n",
      "Runtime: 0.00015053749084472656 s\n"
     ]
    }
   ],
   "source": [
    "def dec7_part1(data):\n",
    "    p = np.array(data)\n",
    "    pos_min = int(np.median(p))\n",
    "    fuel_min = np.sum(np.abs(p - pos_min))\n",
    "    \n",
    "    return pos_min, fuel_min\n",
    "\n",
    "min_pos, min_fuel = dec7_part1(input_7)\n",
    "print(f'Optimal position {min_pos} cost a fuel total of {min_fuel}')\n",
    "timer_function(func=dec7_part1,data=input_7,n_run=10)"
   ]
  },
  {
   "cell_type": "code",
   "execution_count": 24,
   "id": "cc40be90",
   "metadata": {},
   "outputs": [
    {
     "name": "stdout",
     "output_type": "stream",
     "text": [
      "Optimal position at 479 cost a fuel total of 99540554.0\n",
      "Runtime: 0.028005456924438475 s\n"
     ]
    }
   ],
   "source": [
    "def consecutive_sum(n):\n",
    "    answer = n*(n + 1)/2\n",
    "    return answer\n",
    "\n",
    "def dec7_part2(data):\n",
    "    p = np.array(data)\n",
    "    pos = range(np.min(data), np.max(data) + 1)\n",
    "    dp = [consecutive_sum(np.abs(p - i)) for i in pos]\n",
    "    fuel = np.sum(dp, axis=1)\n",
    "    \n",
    "    return pos[np.argmin(fuel)], np.min(fuel)\n",
    "\n",
    "min_pos, min_fuel = dec7_part2(input_7)\n",
    "print(f'Optimal position at {min_pos} cost a fuel total of {min_fuel}')\n",
    "timer_function(func=dec7_part2,data=input_7,n_run=10)"
   ]
  },
  {
   "cell_type": "code",
   "execution_count": 25,
   "id": "b0249ab2",
   "metadata": {},
   "outputs": [
    {
     "name": "stdout",
     "output_type": "stream",
     "text": [
      "Input length: 1000\n",
      "Test input: [['be cfbegad cbdgef fgaecd cgeb fdcge agebfd fecdb fabcd edb', 'fdgacbe cefdb cefbgd gcbe'], ['edbfga begcd cbg gc gcadebf fbgde acbgfd abcde gfcbed gfec', 'fcgedb cgb dgebacf gc'], ['fgaebd cg bdaec gdafb agbcfd gdcbef bgcad gfac gcb cdgabef', 'cg cg fdcagb cbg'], ['fbegcd cbd adcefb dageb afcb bc aefdc ecdab fgdeca fcdbega', 'efabcd cedba gadfec cb'], ['aecbfdg fbg gf bafeg dbefa fcge gcbea fcaegb dgceab fcbdga', 'gecf egdcabf bgf bfgea'], ['fgeab ca afcebg bdacfeg cfaedg gcfdb baec bfadeg bafgc acf', 'gebdcfa ecba ca fadegcb'], ['dbcfg fgd bdegcaf fgec aegbdf ecdfab fbedc dacgb gdcebf gf', 'cefg dcbef fcge gbcadfe'], ['bdfegc cbegaf gecbf dfcage bdacg ed bedf ced adcbefg gebcd', 'ed bcgafe cdgba cbgef'], ['egadfb cdbfeg cegd fecab cgb gbdefca cg fgcdab egfdb bfceg', 'gbdfcae bgc cg cgb'], ['gcafb gcf dcaebfg ecagb gf abcdeg gaef cafbge fdbac fegbdc', 'fgae cfgab fg bagce']]\n"
     ]
    }
   ],
   "source": [
    "input_test = [\n",
    "    'be cfbegad cbdgef fgaecd cgeb fdcge agebfd fecdb fabcd edb |fdgacbe cefdb cefbgd gcbe',\n",
    "    'edbfga begcd cbg gc gcadebf fbgde acbgfd abcde gfcbed gfec |fcgedb cgb dgebacf gc',\n",
    "    'fgaebd cg bdaec gdafb agbcfd gdcbef bgcad gfac gcb cdgabef |cg cg fdcagb cbg',\n",
    "    'fbegcd cbd adcefb dageb afcb bc aefdc ecdab fgdeca fcdbega |efabcd cedba gadfec cb',\n",
    "    'aecbfdg fbg gf bafeg dbefa fcge gcbea fcaegb dgceab fcbdga |gecf egdcabf bgf bfgea',\n",
    "    'fgeab ca afcebg bdacfeg cfaedg gcfdb baec bfadeg bafgc acf |gebdcfa ecba ca fadegcb',\n",
    "    'dbcfg fgd bdegcaf fgec aegbdf ecdfab fbedc dacgb gdcebf gf |cefg dcbef fcge gbcadfe',\n",
    "    'bdfegc cbegaf gecbf dfcage bdacg ed bedf ced adcbefg gebcd |ed bcgafe cdgba cbgef',\n",
    "    'egadfb cdbfeg cegd fecab cgb gbdefca cg fgcdab egfdb bfceg |gbdfcae bgc cg cgb',\n",
    "    'gcafb gcf dcaebfg ecagb gf abcdeg gaef cafbge fdbac fegbdc |fgae cfgab fg bagce']\n",
    "input_test = [i.split(' |') for i in input_test]\n",
    "input_8=scrape_data(8)\n",
    "input_8 = [i.split(' | ') for i in input_8]\n",
    "print('Input length:', len(input_7))\n",
    "print('Test input:', input_test)"
   ]
  },
  {
   "cell_type": "code",
   "execution_count": 27,
   "id": "579c8f26",
   "metadata": {},
   "outputs": [
    {
     "name": "stdout",
     "output_type": "stream",
     "text": [
      "Solution part 1: 318\n",
      "Runtime: 0.0011033058166503907 s\n"
     ]
    }
   ],
   "source": [
    "digit_dct = {\n",
    "    0: ('a','b','c','e','f','g'),\n",
    "    1: ('c','f'),\n",
    "    2: ('a','c','d','e','g'),\n",
    "    3: ('a','c','d','f','g'),\n",
    "    4: ('b','c','d','f'),\n",
    "    5: ('a','b','d','f','g'),\n",
    "    6: ('a','b','d','e','f','g'),\n",
    "    7: ('a','c','f'),\n",
    "    8: ('a','b','c','d','e','f','g'),\n",
    "    9: ('a','b','c','d','f','g')}\n",
    "digit_cnt = dict([(i,len(digit_dct[i])) for i in range(9+1)])\n",
    "\n",
    "unique_digit_cnt = [1,4,7,8]\n",
    "unique_len = set([digit_cnt[d] for d in unique_digit_cnt])\n",
    "\n",
    "def dec8_part1(data):\n",
    "    value_cnt = 0\n",
    "    for segment in data:\n",
    "        value_cnt += np.sum([(len(o) in unique_len) for o in segment[1].split(' ')])\n",
    "    \n",
    "    return value_cnt\n",
    "\n",
    "print('Solution part 1:', dec8_part1(input_8))\n",
    "timer_function(func=dec8_part1,data=input_8,n_run=10)"
   ]
  },
  {
   "cell_type": "code",
   "execution_count": null,
   "id": "9ce7a27b",
   "metadata": {
    "scrolled": true
   },
   "outputs": [],
   "source": [
    "# 1: 2:4, 3:3, 5:4, 0:4, 6:5, 9:4\n",
    "# 7: 2:3, 3:2, 5:3, 0:3, 6:4, 9:3\n",
    "# 4: 2:3, 3:2, 5:2, 0:3, 6:3, 9:2\n",
    "        \n",
    "def dec8_part2(data):\n",
    "    digit_sum = 0\n",
    "    for line in data:\n",
    "        segment = [list(d) for d in line[0].split(' ')]\n",
    "        output = [set(list(d)) for d in line[1].split(' ')]\n",
    "        digits = sorted([set(d) for d in segment], key=len)\n",
    "\n",
    "        # known codes\n",
    "        digit_code = {1: digits[0], 7: digits[1], 4: digits[2], 8: digits[-1]}\n",
    "        \n",
    "        # codes with length 5: (2,3,5)\n",
    "        for d in range(3,6):\n",
    "            d1 = len(digits[d] - digit_code[1])\n",
    "            d4 = len(digits[d] - digit_code[4])\n",
    "            if d1 == 3:\n",
    "                digit_code[3] = digits[d]\n",
    "            elif d4 == 3:\n",
    "                digit_code[2] = digits[d]\n",
    "            else:\n",
    "                digit_code[5] = digits[d]\n",
    "                \n",
    "        # codes with length 6: (0,6,9)\n",
    "        for d in range(6,9):\n",
    "            d1 = len(digits[d] - digit_code[1])\n",
    "            d4 = len(digits[d] - digit_code[4])\n",
    "            if d1 == 5:\n",
    "                digit_code[6] = digits[d]\n",
    "            elif d4 == 2:\n",
    "                digit_code[9] = digits[d]\n",
    "            else:\n",
    "                digit_code[0] = digits[d]\n",
    "                \n",
    "        digit_decifer = [digit_code[i] for i in range(9+1)] # letter-codes ordered after numerical value\n",
    "        digit = int(''.join([str(digit_decifer.index(o)) for o in output]))\n",
    "        digit_sum += digit\n",
    "\n",
    "    return digit_sum\n",
    "\n",
    "print('Solution part 2:', dec8_part2(input_8))\n",
    "timer_function(func=dec8_part2,data=input_8,n_run=10)"
   ]
  },
  {
   "cell_type": "code",
   "execution_count": null,
   "id": "e2499f63",
   "metadata": {},
   "outputs": [],
   "source": []
  }
 ],
 "metadata": {
  "kernelspec": {
   "display_name": "Python 3 (ipykernel)",
   "language": "python",
   "name": "python3"
  },
  "language_info": {
   "codemirror_mode": {
    "name": "ipython",
    "version": 3
   },
   "file_extension": ".py",
   "mimetype": "text/x-python",
   "name": "python",
   "nbconvert_exporter": "python",
   "pygments_lexer": "ipython3",
   "version": "3.9.9"
  }
 },
 "nbformat": 4,
 "nbformat_minor": 5
}
