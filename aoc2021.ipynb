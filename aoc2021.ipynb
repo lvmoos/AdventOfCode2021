{
 "cells": [
  {
   "cell_type": "code",
   "execution_count": 3,
   "id": "635aff9d",
   "metadata": {},
   "outputs": [],
   "source": [
    "import pandas as pd\n",
    "import numpy as np\n",
    "import time\n",
    "import inspect"
   ]
  },
  {
   "cell_type": "code",
   "execution_count": 20,
   "id": "60912fe3",
   "metadata": {},
   "outputs": [],
   "source": [
    "# Helper functions\n",
    "def timer_function(func=None, n_run=1):\n",
    "\n",
    "    ti = time.time()\n",
    "    for n in range(n_run):\n",
    "        func\n",
    "    tf = time.time()\n",
    "    \n",
    "    print(f'Runtime: {(tf - ti)/n_run} s')\n",
    "\n",
    "def read_csv_pandas(file_path=None):\n",
    "    df_data = pd.read_csv(file_path, sep=',', header=None)\n",
    "    \n",
    "    return df_data\n",
    "    "
   ]
  },
  {
   "cell_type": "markdown",
   "id": "0d872c74",
   "metadata": {},
   "source": [
    "# December 1\n"
   ]
  },
  {
   "cell_type": "code",
   "execution_count": 24,
   "id": "b3853d31",
   "metadata": {},
   "outputs": [
    {
     "name": "stdout",
     "output_type": "stream",
     "text": [
      "Runtime: 0.0 s\n"
     ]
    },
    {
     "data": {
      "text/html": [
       "<div>\n",
       "<style scoped>\n",
       "    .dataframe tbody tr th:only-of-type {\n",
       "        vertical-align: middle;\n",
       "    }\n",
       "\n",
       "    .dataframe tbody tr th {\n",
       "        vertical-align: top;\n",
       "    }\n",
       "\n",
       "    .dataframe thead th {\n",
       "        text-align: right;\n",
       "    }\n",
       "</style>\n",
       "<table border=\"1\" class=\"dataframe\">\n",
       "  <thead>\n",
       "    <tr style=\"text-align: right;\">\n",
       "      <th></th>\n",
       "      <th>0</th>\n",
       "      <th>1</th>\n",
       "      <th>2</th>\n",
       "    </tr>\n",
       "  </thead>\n",
       "  <tbody>\n",
       "    <tr>\n",
       "      <th>0</th>\n",
       "      <td>1</td>\n",
       "      <td>a</td>\n",
       "      <td>mdksa sm</td>\n",
       "    </tr>\n",
       "    <tr>\n",
       "      <th>1</th>\n",
       "      <td>2</td>\n",
       "      <td>b</td>\n",
       "      <td>jdsasjnj203</td>\n",
       "    </tr>\n",
       "    <tr>\n",
       "      <th>2</th>\n",
       "      <td>3</td>\n",
       "      <td>c</td>\n",
       "      <td>dj1992</td>\n",
       "    </tr>\n",
       "  </tbody>\n",
       "</table>\n",
       "</div>"
      ],
      "text/plain": [
       "   0  1             2\n",
       "0  1  a      mdksa sm\n",
       "1  2  b   jdsasjnj203\n",
       "2  3  c        dj1992"
      ]
     },
     "execution_count": 24,
     "metadata": {},
     "output_type": "execute_result"
    }
   ],
   "source": [
    "timer_function(func=read_csv_pandas(\"data/test_csv.csv\"), n_run=10)\n",
    "data = read_csv_pandas(\"data/test_csv.csv\")\n",
    "data"
   ]
  }
 ],
 "metadata": {
  "kernelspec": {
   "display_name": "Python 3 (ipykernel)",
   "language": "python",
   "name": "python3"
  },
  "language_info": {
   "codemirror_mode": {
    "name": "ipython",
    "version": 3
   },
   "file_extension": ".py",
   "mimetype": "text/x-python",
   "name": "python",
   "nbconvert_exporter": "python",
   "pygments_lexer": "ipython3",
   "version": "3.9.9"
  }
 },
 "nbformat": 4,
 "nbformat_minor": 5
}
