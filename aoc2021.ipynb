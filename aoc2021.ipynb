{
 "cells": [
  {
   "cell_type": "code",
   "execution_count": 1,
   "id": "635aff9d",
   "metadata": {},
   "outputs": [],
   "source": [
    "import pandas as pd\n",
    "import numpy as np\n",
    "import time\n",
    "import requests\n",
    "import re"
   ]
  },
  {
   "cell_type": "code",
   "execution_count": 2,
   "id": "60912fe3",
   "metadata": {},
   "outputs": [
    {
     "name": "stdout",
     "output_type": "stream",
     "text": [
      "Runtime: 0.0 s\n",
      "['1,a,mdksa sm', '2,b, jdsasjnj203', '3,c, dj1992']\n",
      "   0  1             2\n",
      "0  1  a      mdksa sm\n",
      "1  2  b   jdsasjnj203\n",
      "2  3  c        dj1992\n",
      "['159', '158', '174', '196', '197', '194', '209', '213', '214', '222']\n"
     ]
    }
   ],
   "source": [
    "# Helper functions\n",
    "def timer_function(func=None, n_run=1):\n",
    "\n",
    "    ti = time.time()\n",
    "    for n in range(n_run):\n",
    "        func\n",
    "    tf = time.time()\n",
    "    \n",
    "    print(f'Runtime: {(tf - ti)/n_run} s')\n",
    "\n",
    "def read_input_pd(file_path=None):\n",
    "    df_data = pd.read_csv(file_path, sep=',', header=None)\n",
    "    \n",
    "    return df_data\n",
    "\n",
    "def read_input_lst(file_path=None):\n",
    "    with open(file_path,'r') as f:\n",
    "        lines = f.read().splitlines()\n",
    "\n",
    "    input_arr = list(lines)\n",
    "\n",
    "\n",
    "    return input_arr\n",
    "\n",
    "def scrape_data(day):\n",
    "    \"\"\"\n",
    "    fetches the input data from the website\n",
    "    day: the day of december to fetch\n",
    "    \"\"\"\n",
    "    # Fetch session cookie value from local file\n",
    "    with open(\"session.txt\",'r') as f:\n",
    "        key = f.read()\n",
    "    cookie = {'session': key}\n",
    "    url= f\"https://adventofcode.com/2021/day/{day}/input\"\n",
    "\n",
    "    with requests.Session() as s:\n",
    "        r = s.get(url, cookies = cookie).text\n",
    "        # Data always end with a blanc line. Data is split on line change\n",
    "        input_lst = re.split('\\n', r)[:-1]\n",
    "\n",
    "    return input_lst\n",
    "\n",
    "timer_function(func=read_input_pd(\"input/test_csv.csv\"), n_run=10)\n",
    "print(read_input_lst(\"input/test_csv.csv\"))\n",
    "print(read_input_pd(\"input/test_csv.csv\"))\n",
    "print(scrape_data(day=1)[:10])\n"
   ]
  },
  {
   "cell_type": "markdown",
   "id": "0d872c74",
   "metadata": {},
   "source": [
    "# December 1\n"
   ]
  },
  {
   "cell_type": "code",
   "execution_count": 3,
   "id": "b3853d31",
   "metadata": {},
   "outputs": [
    {
     "name": "stdout",
     "output_type": "stream",
     "text": [
      "Test input:\n",
      " [199 200 208 210 200 207 240 269 260 263]\n",
      "Solution test:  7\n"
     ]
    }
   ],
   "source": [
    "# Test data\n",
    "input_test = np.array([199,200,208,210,200,207,240,269,260,263])\n",
    "\n",
    "def dec1_part1(data):\n",
    "    answer = np.sum(np.diff(data) > 0)\n",
    "    return answer\n",
    "\n",
    "# Test data\n",
    "print(f'Test input:\\n', input_test)\n",
    "print(f'Solution test: ', dec1_part1(input_test))"
   ]
  },
  {
   "cell_type": "code",
   "execution_count": 4,
   "id": "0fee2ddf",
   "metadata": {},
   "outputs": [
    {
     "name": "stdout",
     "output_type": "stream",
     "text": [
      "Solution december 1. - part 1:  1583\n",
      "Runtime: 1.5003204345703124e-08 s\n"
     ]
    }
   ],
   "source": [
    "# Actual input\n",
    "input_1 = scrape_data(day=1)\n",
    "input_1 = [int(i) for i in input_1]\n",
    "answer = dec1_part1(input_1)\n",
    "print(f'Solution december 1. - part 1: ', answer)\n",
    "timer_function(func=dec1_part1(input_1), n_run=1000000)"
   ]
  },
  {
   "cell_type": "code",
   "execution_count": 5,
   "id": "9ecb9533",
   "metadata": {},
   "outputs": [
    {
     "name": "stdout",
     "output_type": "stream",
     "text": [
      "Sums: [607, 618, 618, 617, 647, 716, 769, 792]\n",
      "Solution test:  5\n"
     ]
    }
   ],
   "source": [
    "# Part 2 Test\n",
    "def dec1_part2(data, window):\n",
    "    rolling_sum =[np.sum(data[i:i + window]) for i in range(0, len(data) + 1 - window)]\n",
    "    answer = dec1_part1(rolling_sum)\n",
    "\n",
    "    return rolling_sum, answer\n",
    "\n",
    "# Test input\n",
    "rolling_sum,answer = dec1_part2(input_test, window=3)\n",
    "print(f'Sums:', rolling_sum)\n",
    "print(f'Solution test: ', answer)"
   ]
  },
  {
   "cell_type": "code",
   "execution_count": 6,
   "id": "5d24c961",
   "metadata": {},
   "outputs": [
    {
     "name": "stdout",
     "output_type": "stream",
     "text": [
      "Solution december 1. - part 2:  1627\n",
      "Runtime: 1.400923728942871e-08 s\n"
     ]
    }
   ],
   "source": [
    "# Actual input\n",
    "rolling_sum, answer = dec1_part2(input_1, window=3)\n",
    "print(f'Solution december 1. - part 2: ', answer)\n",
    "timer_function(func=dec1_part2(input_1, window=3), n_run=1000000)"
   ]
  }
 ],
 "metadata": {
  "kernelspec": {
   "display_name": "Python 3 (ipykernel)",
   "language": "python",
   "name": "python3"
  },
  "language_info": {
   "codemirror_mode": {
    "name": "ipython",
    "version": 3
   },
   "file_extension": ".py",
   "mimetype": "text/x-python",
   "name": "python",
   "nbconvert_exporter": "python",
   "pygments_lexer": "ipython3",
   "version": "3.9.9"
  }
 },
 "nbformat": 4,
 "nbformat_minor": 5
}
