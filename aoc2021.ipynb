{
 "cells": [
  {
   "cell_type": "code",
   "execution_count": 4,
   "id": "635aff9d",
   "metadata": {},
   "outputs": [],
   "source": [
    "import pandas as pd\n",
    "import numpy as np\n",
    "import time\n",
    "import requests\n",
    "import re"
   ]
  },
  {
   "cell_type": "code",
   "execution_count": 5,
   "id": "60912fe3",
   "metadata": {},
   "outputs": [],
   "source": [
    "# Helper functions\n",
    "def timer_function(func, data, n_run=1):\n",
    "    ti = time.time()\n",
    "    for i in range(n_run):\n",
    "        func(data)\n",
    "    tf = time.time()\n",
    "    \n",
    "    print(f'Runtime: {(tf - ti)/n_run} s')\n",
    "\n",
    "def scrape_data(day):\n",
    "    \"\"\"\n",
    "    fetches the input data from the website\n",
    "    day: the day of december to fetch\n",
    "    \"\"\"\n",
    "    # Fetch session cookie value from local file\n",
    "    with open(\"session.txt\",'r') as f:\n",
    "        key = f.read()\n",
    "    cookie = {'session': key}\n",
    "    url= f\"https://adventofcode.com/2021/day/{day}/input\"\n",
    "\n",
    "    with requests.Session() as s:\n",
    "        r = s.get(url, cookies = cookie).text\n",
    "        if 'Please log in' in r:\n",
    "            print(r)\n",
    "            input_lst = None\n",
    "        else:\n",
    "            # Data always end with a blanc line. Data is split on line change\n",
    "            input_lst = re.split('\\n', r)[:-1]\n",
    "\n",
    "    return input_lst"
   ]
  },
  {
   "cell_type": "markdown",
   "id": "0d872c74",
   "metadata": {},
   "source": [
    "# December 1\n"
   ]
  },
  {
   "cell_type": "code",
   "execution_count": 6,
   "id": "b3853d31",
   "metadata": {},
   "outputs": [
    {
     "name": "stdout",
     "output_type": "stream",
     "text": [
      "Number of input rows: 2000\n"
     ]
    }
   ],
   "source": [
    "# data import\n",
    "input_test = np.array([199,200,208,210,200,207,240,269,260,263])\n",
    "input_1 = scrape_data(day=1)\n",
    "input_1 = [int(i) for i in input_1]\n",
    "print('Number of input rows:', len(input_1))"
   ]
  },
  {
   "cell_type": "code",
   "execution_count": 7,
   "id": "0fee2ddf",
   "metadata": {},
   "outputs": [
    {
     "name": "stdout",
     "output_type": "stream",
     "text": [
      "Solution december 1. - part 1:  1583\n",
      "Runtime: 0.0001420297622680664 s\n"
     ]
    }
   ],
   "source": [
    "# Part 1\n",
    "def dec1_part1(data):\n",
    "    answer = np.sum(np.diff(data) > 0)\n",
    "    return answer\n",
    "\n",
    "answer = dec1_part1(input_1)\n",
    "print(f'Solution december 1. - part 1: ', answer)\n",
    "timer_function(func=dec1_part1, data=input_1, n_run=1000)"
   ]
  },
  {
   "cell_type": "code",
   "execution_count": 8,
   "id": "9ecb9533",
   "metadata": {},
   "outputs": [
    {
     "name": "stdout",
     "output_type": "stream",
     "text": [
      "Solution december 1. - part 2:  1627\n",
      "Runtime: 0.008501911163330078 s\n"
     ]
    }
   ],
   "source": [
    "# Part 2\n",
    "def dec1_part2(data):\n",
    "    window = 3\n",
    "    rolling_sum =[np.sum(data[i:i + window]) for i in range(0, len(data) + 1 - window)]\n",
    "    answer = dec1_part1(rolling_sum)\n",
    "\n",
    "    return rolling_sum, answer\n",
    "\n",
    "rolling_sum, answer = dec1_part2(input_1)\n",
    "print(f'Solution december 1. - part 2: ', answer)\n",
    "timer_function(func=dec1_part2,data=input_1, n_run=10)"
   ]
  },
  {
   "cell_type": "markdown",
   "id": "f1361a8b",
   "metadata": {},
   "source": [
    "# December 2\n"
   ]
  },
  {
   "cell_type": "code",
   "execution_count": 9,
   "id": "c17f8729",
   "metadata": {},
   "outputs": [
    {
     "name": "stdout",
     "output_type": "stream",
     "text": [
      "Number of input rows: 1000\n"
     ]
    }
   ],
   "source": [
    "input_test = ['forward 5','down 5','forward 8','up 3','down 8','forward 2']\n",
    "input_2 = scrape_data(day=2)\n",
    "print('Number of input rows:', len(input_2))"
   ]
  },
  {
   "cell_type": "code",
   "execution_count": 10,
   "id": "ddf77bcd",
   "metadata": {},
   "outputs": [
    {
     "name": "stdout",
     "output_type": "stream",
     "text": [
      "Position (horizontal/vertical): 1939.0 , 1109.0\n",
      "Solution:  2150351.0\n",
      "Runtime: 0.006401562690734863 s\n"
     ]
    }
   ],
   "source": [
    "# Solution and test input\n",
    "def split_direction(df, direction, sign):\n",
    "    mask = df['raw'].str.contains(direction)\n",
    "    df.loc[mask, 'direction'] = direction[0]\n",
    "    df.loc[mask, 'step'] = df.loc[mask, 'raw'].str.replace(direction, '').astype(int)*sign\n",
    "    \n",
    "    return df\n",
    "\n",
    "def dec2_part1(data):\n",
    "    df_data = pd.DataFrame(data).rename(columns={0:'raw'})\n",
    "    \n",
    "    df_data = split_direction(df_data, 'forward ', +1)\n",
    "    df_data = split_direction(df_data, 'down ', +1)\n",
    "    df_data = split_direction(df_data, 'up ', -1)\n",
    "    \n",
    "    mask_fwd = df_data['direction'] == 'f'\n",
    "    pos_horizontal = df_data.loc[mask_fwd, 'step'].sum()\n",
    "    pos_vertical = df_data.loc[~mask_fwd, 'step'].sum()\n",
    "    \n",
    "    answer = pos_horizontal*pos_vertical\n",
    "    \n",
    "    return pos_horizontal, pos_vertical, df_data, answer\n",
    "\n",
    "\n",
    "pos_horizontal, pos_vertical, df_input, answer = dec2_part1(input_2)\n",
    "print(f'Position (horizontal/vertical):', pos_horizontal, ',',pos_vertical)\n",
    "print(f'Solution: ', answer)\n",
    "timer_function(func=dec2_part1,data=input_2, n_run=10)"
   ]
  },
  {
   "cell_type": "code",
   "execution_count": 11,
   "id": "63819243",
   "metadata": {},
   "outputs": [
    {
     "name": "stdout",
     "output_type": "stream",
     "text": [
      "Position (horizontal/vertical): 1939.0 , 950357.0\n",
      "Solution:  1842742223.0\n",
      "Runtime: 0.0018003463745117187 s\n"
     ]
    }
   ],
   "source": [
    "# December  2 - Part 2\n",
    "def dec2_part2(df):    \n",
    "    mask_fwd = df['direction'] == 'f'\n",
    "    \n",
    "    df['aim_step'] = 0\n",
    "    df.loc[~mask_fwd, 'aim_step'] = df.loc[~mask_fwd, 'step']\n",
    "    df['aim'] = df['aim_step'].cumsum()\n",
    "\n",
    "    pos_horizontal = df.loc[mask_fwd, 'step'].sum()\n",
    "    pos_vertical = (df.loc[mask_fwd, 'step']*df.loc[mask_fwd, 'aim']).sum()\n",
    "    \n",
    "    answer = pos_horizontal*pos_vertical\n",
    "    \n",
    "    return pos_horizontal, pos_vertical, df, answer\n",
    "\n",
    "pos_horizontal, pos_vertical, df_input, answer = dec2_part2(df_input)\n",
    "print(f'Position (horizontal/vertical):', pos_horizontal, ',',pos_vertical)\n",
    "print(f'Solution: ', answer)\n",
    "timer_function(func=dec2_part2,data=df_input, n_run=10)"
   ]
  },
  {
   "cell_type": "markdown",
   "id": "1acc5911",
   "metadata": {},
   "source": [
    "# December 3"
   ]
  },
  {
   "cell_type": "code",
   "execution_count": 12,
   "id": "85af412e",
   "metadata": {},
   "outputs": [
    {
     "name": "stdout",
     "output_type": "stream",
     "text": [
      "Number of input rows: 1000\n"
     ]
    }
   ],
   "source": [
    "input_test = ['00100','11110','10110','10111','10101','01111','00111','11100','10000','11001','00010','01010']\n",
    "input_3 = scrape_data(day=3)\n",
    "print('Number of input rows:', len(input_3))"
   ]
  },
  {
   "cell_type": "code",
   "execution_count": 13,
   "id": "53283125",
   "metadata": {},
   "outputs": [
    {
     "name": "stdout",
     "output_type": "stream",
     "text": [
      "('010001110111', '101110001000', 3374136)\n",
      "Runtime: 0.004302334785461426 s\n"
     ]
    }
   ],
   "source": [
    "# Solution part 1 and test\n",
    "def dec3_part1(data):\n",
    "    n_digit = len(data[0])\n",
    "    n_row = len(data)\n",
    "    \n",
    "    digit_sum = np.zeros(n_digit)\n",
    "    \n",
    "    for row in data:\n",
    "        row_lst = [int(i) for i in row]\n",
    "        digit_sum = np.add(digit_sum, row_lst)\n",
    "    \n",
    "    mask = digit_sum >= n_row/2\n",
    "    gamma = ''.join(map(str, 1*(mask)))\n",
    "    epsilon = ''.join(map(str, 1*(~mask)))\n",
    "    \n",
    "    answer = int(gamma,2)*int(epsilon,2)\n",
    "    \n",
    "    return gamma, epsilon, answer\n",
    "    \n",
    "print(dec3_part1(input_3))\n",
    "timer_function(func=dec3_part1,data=input_3, n_run=10)"
   ]
  },
  {
   "cell_type": "code",
   "execution_count": 14,
   "id": "71b79b8e",
   "metadata": {},
   "outputs": [
    {
     "name": "stdout",
     "output_type": "stream",
     "text": [
      "('011101110101', '100100010010', 4432698)\n",
      "Runtime: 0.001300477981567383 s\n"
     ]
    }
   ],
   "source": [
    "def find_rating(rating, bit):\n",
    "    n_digit = len(rating[0])\n",
    "    n_row = len(rating)\n",
    "    idx = 0\n",
    "    \n",
    "    while (len(rating) > 1) & (idx < n_digit):\n",
    "        half_len = len(rating)/2\n",
    "        digit_sum = 0\n",
    "        for row in rating:\n",
    "            digit_sum += int(row[idx])\n",
    "            \n",
    "        digit_even = digit_sum == half_len\n",
    "        \n",
    "        if digit_even:\n",
    "            rating = [entry for entry in rating if entry[idx] == bit]\n",
    "        else:\n",
    "            if bit == '0':\n",
    "                digit_match = 1*(digit_sum < half_len)\n",
    "            else:\n",
    "                digit_match = 1*(digit_sum > half_len)\n",
    "\n",
    "            rating = [entry for entry in rating if entry[idx] == str(digit_match)]\n",
    "\n",
    "        idx += 1\n",
    "    \n",
    "    # select the only remaining correct entry if more exist\n",
    "    rating = [entry for entry in rating if entry[-1] == bit][0]\n",
    "    \n",
    "    return rating\n",
    "\n",
    "def dec3_part2(data):\n",
    "    o_rating = find_rating(rating=data, bit='1')\n",
    "    co2_rating = find_rating(rating=data, bit='0')\n",
    "        \n",
    "    answer = int(o_rating,2)*int(co2_rating,2)\n",
    "    \n",
    "    return o_rating, co2_rating, answer\n",
    "\n",
    "print(dec3_part2(input_3))\n",
    "timer_function(func=dec3_part2,data=input_3, n_run=10)"
   ]
  },
  {
   "cell_type": "markdown",
   "id": "b14f4666",
   "metadata": {},
   "source": [
    "# December 4"
   ]
  },
  {
   "cell_type": "code",
   "execution_count": 15,
   "id": "9ea05c5e",
   "metadata": {},
   "outputs": [],
   "source": [
    "input_test = [\n",
    "    '7,4,9,5,11,17,23,2,0,14,21,24,10,16,13,6,15,25,12,22,18,20,8,19,3,26,1',\n",
    "    '',\n",
    "    '22 13 17 11  0',\n",
    "    '8  2 23  4 24',\n",
    "    '21  9 14 16  7',\n",
    "    '6 10  3 18  5',\n",
    "     '1 12 20 15 19',\n",
    "    '',\n",
    "    '3 15  0  2 22',\n",
    "    '9 18 13 17  5',\n",
    "    '19  8  7 25 23',\n",
    "    '20 11 10 24  4',\n",
    "    '14 21 16 12  6',\n",
    "    '',\n",
    "    '14 21 17 24  4',\n",
    "    '10 16 15  9 19',\n",
    "    '18  8 23 26 20',\n",
    "    '22 11 13  6  5',\n",
    "     '2  0 12  3  7']\n",
    "input_4 = scrape_data(day=4)"
   ]
  },
  {
   "cell_type": "code",
   "execution_count": 16,
   "id": "e3c92e57",
   "metadata": {},
   "outputs": [],
   "source": [
    "def create_data_structure(data):\n",
    "    numbers = list(map(int, re.split(',', data[0])))\n",
    "    idx_start = 2\n",
    "    idx_end = len(data) - 1\n",
    "    n_size = 5\n",
    "\n",
    "    boards = []\n",
    "    for board_start in range(idx_start, idx_end, n_size + 1):\n",
    "        board = []\n",
    "        for idx in range(board_start, board_start + n_size):\n",
    "            board.append(list(map(int, re.split('\\s+', data[idx].strip()))))\n",
    "\n",
    "\n",
    "        for col in np.transpose(board):\n",
    "            board.append(col)\n",
    "            \n",
    "        boards.append(board)\n",
    "\n",
    "    board_sets = [[set(row) for row in board] for board in boards]\n",
    "    return numbers, board_sets\n",
    "\n",
    "numbers, board_sets = create_data_structure(input_4)"
   ]
  },
  {
   "cell_type": "code",
   "execution_count": 17,
   "id": "b5a35bd1",
   "metadata": {},
   "outputs": [
    {
     "name": "stdout",
     "output_type": "stream",
     "text": [
      "Answer: (99, 46920)\n",
      "Runtime: 0.0043819665908813475 s\n"
     ]
    }
   ],
   "source": [
    "def dec4_part1(data):\n",
    "    numbers, board_sets = create_data_structure(data)\n",
    "    \n",
    "    keep_going = True\n",
    "    for idx, n in enumerate(numbers):\n",
    "        for n_board, board in enumerate(board_sets):\n",
    "            for row in board:\n",
    "                row.discard(n)\n",
    "\n",
    "                if len(row) == 0:\n",
    "                    keep_going = False\n",
    "                    board_winner = board\n",
    "\n",
    "        if keep_going:\n",
    "            continue\n",
    "        else:\n",
    "            break\n",
    "            \n",
    "            \n",
    "    remainders = set(i for row in board_winner for i in row)\n",
    "    winner_board = idx\n",
    "    answer = sum(remainders)*n\n",
    "    return n_board, answer\n",
    "\n",
    "print('Answer:', dec4_part1(input_4))\n",
    "timer_function(func=dec4_part1,data=input_4, n_run=10)"
   ]
  },
  {
   "cell_type": "code",
   "execution_count": 18,
   "id": "9b2e5707",
   "metadata": {},
   "outputs": [
    {
     "name": "stdout",
     "output_type": "stream",
     "text": [
      "Answer: 12635\n",
      "Runtime: 0.007802414894104004 s\n"
     ]
    }
   ],
   "source": [
    "def dec4_part2(data):\n",
    "    numbers, board_sets = create_data_structure(data)\n",
    "    keep_going = True\n",
    "    for idx, n in enumerate(numbers):\n",
    "        del_board = []\n",
    "        for n_board, board in enumerate(board_sets):\n",
    "\n",
    "            for row in board:\n",
    "                row.discard(n)\n",
    "                if len(row) == 0:\n",
    "                    del_board.append(n_board)\n",
    "                    last_board = board\n",
    "        \n",
    "        if len(del_board)>0:\n",
    "            board_tmp = board_sets.copy()\n",
    "            \n",
    "            for board in set(del_board):\n",
    "                board_sets.remove(board_tmp[board])\n",
    "            \n",
    "            if len(board_sets) == 0:\n",
    "                keep_going = False\n",
    "\n",
    "        if keep_going:\n",
    "            continue\n",
    "        else:\n",
    "            break\n",
    "            \n",
    "            \n",
    "    remainders = set(i for row in last_board for i in row)\n",
    "    answer = sum(remainders)*n\n",
    "    return answer\n",
    "\n",
    "\n",
    "print('Answer:', dec4_part2(input_4))\n",
    "timer_function(func=dec4_part2,data=input_4, n_run=10)"
   ]
  },
  {
   "cell_type": "markdown",
   "id": "412bfa19",
   "metadata": {},
   "source": [
    "# December 5"
   ]
  },
  {
   "cell_type": "code",
   "execution_count": 19,
   "id": "c459f0d6",
   "metadata": {},
   "outputs": [],
   "source": [
    "input_test = [\n",
    "    '0,9 -> 5,9',\n",
    "    '8,0 -> 0,8',\n",
    "    '9,4 -> 3,4',\n",
    "    '2,2 -> 2,1',\n",
    "    '7,0 -> 7,4',\n",
    "    '6,4 -> 2,0',\n",
    "    '0,9 -> 2,9',\n",
    "    '3,4 -> 1,4',\n",
    "    '0,0 -> 8,8',\n",
    "    '5,5 -> 8,2']\n",
    "input_5 = scrape_data(day=5)"
   ]
  },
  {
   "cell_type": "code",
   "execution_count": 20,
   "id": "c8dbb4df",
   "metadata": {},
   "outputs": [
    {
     "name": "stdout",
     "output_type": "stream",
     "text": [
      "Answer: 8060\n",
      "Runtime: 0.05161151885986328 s\n"
     ]
    }
   ],
   "source": [
    "# Part 1\n",
    "def data_prep(data):\n",
    "    data_clean = [tuple(map(int, row.replace(' -> ', ',').split(','))) for row in data]\n",
    "    \n",
    "    n_size = np.max(data_clean) + 1\n",
    "    \n",
    "    grid = np.zeros((n_size,n_size))\n",
    "    \n",
    "    return data_clean, grid\n",
    "\n",
    "def add_line(coords):\n",
    "    if coords[0] == coords[2]:\n",
    "        x = coords[0]\n",
    "        y1 = min(coords[1], coords[3])\n",
    "        y2 = max(coords[1], coords[3])\n",
    "\n",
    "        for yi in range(y1,y2+1):\n",
    "            grid[yi][x] += 1\n",
    "    else:\n",
    "        y = coords[1]\n",
    "        x1 = min(coords[0], coords[2])\n",
    "        x2 = max(coords[0], coords[2])\n",
    "\n",
    "        for xi in range(x1,x2+1):\n",
    "            grid[y][xi] += 1\n",
    "\n",
    "def dec5_part1(data):\n",
    "    for coord in line_coords:\n",
    "        add_line(coords=coord)\n",
    "    return np.sum(grid > 1)\n",
    "\n",
    "\n",
    "line_coords, grid = data_prep(input_5)\n",
    "# ONly horizontal/vertical\n",
    "line_coords = [row for row in line_coords if (row[0]==row[2]) | (row[1]==row[3])]\n",
    "\n",
    "print('Answer:', dec5_part1(line_coords))\n",
    "timer_function(func=dec5_part1,data=input_5, n_run=10)"
   ]
  },
  {
   "cell_type": "code",
   "execution_count": 21,
   "id": "eb35d105",
   "metadata": {},
   "outputs": [
    {
     "name": "stdout",
     "output_type": "stream",
     "text": [
      "Answer: 21577\n",
      "Runtime: 0.09042098522186279 s\n"
     ]
    }
   ],
   "source": [
    "# Part 2\n",
    "def add_line_diag(coords):\n",
    "    x1, y1, x2, y2 = coords\n",
    "    x_step = np.sign(x2 - x1)\n",
    "    y_step = np.sign(y2 - y1)\n",
    "    \n",
    "\n",
    "    if x1 == x2:\n",
    "        for yi in range(y1, y2 + y_step, y_step):\n",
    "            grid[yi][x1] += 1\n",
    "    elif y1 == y2:\n",
    "        for xi in range(x1, x2 + x_step, x_step):\n",
    "            grid[y1][xi] += 1\n",
    "    else:\n",
    "        for xi,yi in zip(range(x1, x2 + x_step, x_step), range(y1, y2 + y_step, y_step)):\n",
    "            grid[yi][xi] += 1\n",
    "            \n",
    "\n",
    "def dec5_part2(data):\n",
    "    for coord in line_coords:\n",
    "        add_line_diag(coords=coord)\n",
    "    return np.sum(grid > 1)\n",
    "\n",
    "line_coords, grid = data_prep(input_5)\n",
    "print('Answer:', dec5_part2(line_coords))\n",
    "timer_function(func=dec5_part2,data=input_5, n_run=10)"
   ]
  },
  {
   "cell_type": "markdown",
   "id": "e399d35d",
   "metadata": {},
   "source": [
    "# December 6"
   ]
  },
  {
   "cell_type": "code",
   "execution_count": 22,
   "id": "3f07a995",
   "metadata": {},
   "outputs": [
    {
     "data": {
      "text/plain": [
       "[3, 4, 3, 1, 2]"
      ]
     },
     "execution_count": 22,
     "metadata": {},
     "output_type": "execute_result"
    }
   ],
   "source": [
    "input_test = list(map(int, ['3,4,3,1,2'][0].split(',')))\n",
    "input_6 = list(map(int, scrape_data(day=6)[0].split(',')))\n",
    "input_test"
   ]
  },
  {
   "cell_type": "code",
   "execution_count": 23,
   "id": "00dfd30e",
   "metadata": {
    "scrolled": true
   },
   "outputs": [
    {
     "name": "stdout",
     "output_type": "stream",
     "text": [
      "Answer: 362346\n",
      "Runtime: 0.04851164817810059 s\n"
     ]
    }
   ],
   "source": [
    "# Part 1\n",
    "def dec6_part1(fish_pop_initial):\n",
    "    days = 80\n",
    "    fish_pop = np.array(fish_pop_initial.copy(), dtype=int)\n",
    "    for day in range(1, days + 1):\n",
    "        mask_reset = fish_pop == 0\n",
    "\n",
    "        fish_pop -= 1*(fish_pop >= 0)\n",
    "\n",
    "        fish_pop[mask_reset] = 6\n",
    "        fish_pop = np.append(fish_pop, np.sum(mask_reset, dtype=int)*[8])\n",
    "\n",
    "    return fish_pop.astype(int)\n",
    "\n",
    "print('Answer:', len(dec6_part1(input_6)))\n",
    "timer_function(func=dec6_part1,data=input_6,n_run=10)"
   ]
  },
  {
   "cell_type": "code",
   "execution_count": 24,
   "id": "39a61b2d",
   "metadata": {},
   "outputs": [
    {
     "name": "stdout",
     "output_type": "stream",
     "text": [
      "Answer: 1639643057051.0\n",
      "Runtime: 0.005440831184387207 s\n"
     ]
    }
   ],
   "source": [
    "# Part 2\n",
    "def dec6_part2(fish_pop_initial):\n",
    "    days = 256\n",
    "    # Initial states of fish\n",
    "    fish_states = np.zeros([9])\n",
    "    for fish in fish_pop_initial:\n",
    "        fish_states[fish] += 1\n",
    "    \n",
    "    # fish evolving logic\n",
    "    evolve_map = [\n",
    "        np.array([-1, 0, 0, 0, 0, 0, 1, 0, 1]),\n",
    "        np.array([1, -1, 0, 0, 0, 0, 0, 0, 0]),\n",
    "        np.array([0, 1, -1, 0, 0, 0, 0, 0, 0]),\n",
    "        np.array([0, 0, 1, -1, 0, 0, 0, 0, 0]),\n",
    "        np.array([0, 0, 0, 1, -1, 0, 0, 0, 0]),\n",
    "        np.array([0, 0, 0, 0, 1, -1, 0, 0, 0]),\n",
    "        np.array([0, 0, 0, 0, 0, 1, -1, 0, 0]),\n",
    "        np.array([0, 0, 0, 0, 0, 0, 1, -1, 0]),\n",
    "        np.array([0, 0, 0, 0, 0, 0, 0, 1, -1])]\n",
    "    \n",
    "    # fish population evolution\n",
    "    for day in range(1, days + 1):\n",
    "        for state, count in enumerate(fish_states):\n",
    "            fish_states = fish_states + count*evolve_map[state]\n",
    "        \n",
    "    return np.sum(fish_states)\n",
    "\n",
    "print('Answer:', dec6_part2(input_6))\n",
    "timer_function(func=dec6_part2,data=input_6,n_run=10)"
   ]
  },
  {
   "cell_type": "markdown",
   "id": "d7c442eb",
   "metadata": {},
   "source": [
    "# December 7"
   ]
  },
  {
   "cell_type": "code",
   "execution_count": 25,
   "id": "4a580f14",
   "metadata": {},
   "outputs": [
    {
     "name": "stdout",
     "output_type": "stream",
     "text": [
      "Input length: 1000\n",
      "Test input: [16, 1, 2, 0, 4, 2, 7, 1, 2, 14]\n"
     ]
    }
   ],
   "source": [
    "input_test = list(map(int,['16,1,2,0,4,2,7,1,2,14'][0].split(',')))\n",
    "input_7 = list(map(int,scrape_data(7)[0].split(',')))\n",
    "print('Input length:', len(input_7))\n",
    "print('Test input:', input_test)"
   ]
  },
  {
   "cell_type": "code",
   "execution_count": 26,
   "id": "ba37f632",
   "metadata": {},
   "outputs": [
    {
     "name": "stdout",
     "output_type": "stream",
     "text": [
      "Optimal position 331 cost a fuel total of 349769\n",
      "Runtime: 9.89675521850586e-05 s\n"
     ]
    }
   ],
   "source": [
    "def dec7_part1(data):\n",
    "    p = np.array(data)\n",
    "    pos_min = int(np.median(p))\n",
    "    fuel_min = np.sum(np.abs(p - pos_min))\n",
    "    \n",
    "    return pos_min, fuel_min\n",
    "\n",
    "min_pos, min_fuel = dec7_part1(input_7)\n",
    "print(f'Optimal position {min_pos} cost a fuel total of {min_fuel}')\n",
    "timer_function(func=dec7_part1,data=input_7,n_run=10)"
   ]
  },
  {
   "cell_type": "code",
   "execution_count": 27,
   "id": "cc40be90",
   "metadata": {},
   "outputs": [
    {
     "name": "stdout",
     "output_type": "stream",
     "text": [
      "Optimal position at 479 cost a fuel total of 99540554.0\n",
      "Runtime: 0.026906037330627443 s\n"
     ]
    }
   ],
   "source": [
    "def consecutive_sum(n):\n",
    "    answer = n*(n + 1)/2\n",
    "    return answer\n",
    "\n",
    "def dec7_part2(data):\n",
    "    p = np.array(data)\n",
    "    pos = range(np.min(data), np.max(data) + 1)\n",
    "    dp = [consecutive_sum(np.abs(p - i)) for i in pos]\n",
    "    fuel = np.sum(dp, axis=1)\n",
    "    \n",
    "    return pos[np.argmin(fuel)], np.min(fuel)\n",
    "\n",
    "min_pos, min_fuel = dec7_part2(input_7)\n",
    "print(f'Optimal position at {min_pos} cost a fuel total of {min_fuel}')\n",
    "timer_function(func=dec7_part2,data=input_7,n_run=10)"
   ]
  },
  {
   "cell_type": "code",
   "execution_count": 28,
   "id": "72edfcc7",
   "metadata": {},
   "outputs": [
    {
     "name": "stdout",
     "output_type": "stream",
     "text": [
      "Input length: 1000\n",
      "Test input: [['be cfbegad cbdgef fgaecd cgeb fdcge agebfd fecdb fabcd edb', 'fdgacbe cefdb cefbgd gcbe'], ['edbfga begcd cbg gc gcadebf fbgde acbgfd abcde gfcbed gfec', 'fcgedb cgb dgebacf gc'], ['fgaebd cg bdaec gdafb agbcfd gdcbef bgcad gfac gcb cdgabef', 'cg cg fdcagb cbg'], ['fbegcd cbd adcefb dageb afcb bc aefdc ecdab fgdeca fcdbega', 'efabcd cedba gadfec cb'], ['aecbfdg fbg gf bafeg dbefa fcge gcbea fcaegb dgceab fcbdga', 'gecf egdcabf bgf bfgea'], ['fgeab ca afcebg bdacfeg cfaedg gcfdb baec bfadeg bafgc acf', 'gebdcfa ecba ca fadegcb'], ['dbcfg fgd bdegcaf fgec aegbdf ecdfab fbedc dacgb gdcebf gf', 'cefg dcbef fcge gbcadfe'], ['bdfegc cbegaf gecbf dfcage bdacg ed bedf ced adcbefg gebcd', 'ed bcgafe cdgba cbgef'], ['egadfb cdbfeg cegd fecab cgb gbdefca cg fgcdab egfdb bfceg', 'gbdfcae bgc cg cgb'], ['gcafb gcf dcaebfg ecagb gf abcdeg gaef cafbge fdbac fegbdc', 'fgae cfgab fg bagce']]\n"
     ]
    }
   ],
   "source": [
    "input_test = [\n",
    "    'be cfbegad cbdgef fgaecd cgeb fdcge agebfd fecdb fabcd edb |fdgacbe cefdb cefbgd gcbe',\n",
    "    'edbfga begcd cbg gc gcadebf fbgde acbgfd abcde gfcbed gfec |fcgedb cgb dgebacf gc',\n",
    "    'fgaebd cg bdaec gdafb agbcfd gdcbef bgcad gfac gcb cdgabef |cg cg fdcagb cbg',\n",
    "    'fbegcd cbd adcefb dageb afcb bc aefdc ecdab fgdeca fcdbega |efabcd cedba gadfec cb',\n",
    "    'aecbfdg fbg gf bafeg dbefa fcge gcbea fcaegb dgceab fcbdga |gecf egdcabf bgf bfgea',\n",
    "    'fgeab ca afcebg bdacfeg cfaedg gcfdb baec bfadeg bafgc acf |gebdcfa ecba ca fadegcb',\n",
    "    'dbcfg fgd bdegcaf fgec aegbdf ecdfab fbedc dacgb gdcebf gf |cefg dcbef fcge gbcadfe',\n",
    "    'bdfegc cbegaf gecbf dfcage bdacg ed bedf ced adcbefg gebcd |ed bcgafe cdgba cbgef',\n",
    "    'egadfb cdbfeg cegd fecab cgb gbdefca cg fgcdab egfdb bfceg |gbdfcae bgc cg cgb',\n",
    "    'gcafb gcf dcaebfg ecagb gf abcdeg gaef cafbge fdbac fegbdc |fgae cfgab fg bagce']\n",
    "input_test = [i.split(' |') for i in input_test]\n",
    "input_8=scrape_data(8)\n",
    "input_8 = [i.split(' | ') for i in input_8]\n",
    "print('Input length:', len(input_7))\n",
    "print('Test input:', input_test)"
   ]
  },
  {
   "cell_type": "code",
   "execution_count": 29,
   "id": "be9e83cf",
   "metadata": {},
   "outputs": [
    {
     "name": "stdout",
     "output_type": "stream",
     "text": [
      "Solution part 1: 318\n",
      "Runtime: 0.0012053728103637695 s\n"
     ]
    }
   ],
   "source": [
    "digit_dct = {\n",
    "    0: ('a','b','c','e','f','g'),\n",
    "    1: ('c','f'),\n",
    "    2: ('a','c','d','e','g'),\n",
    "    3: ('a','c','d','f','g'),\n",
    "    4: ('b','c','d','f'),\n",
    "    5: ('a','b','d','f','g'),\n",
    "    6: ('a','b','d','e','f','g'),\n",
    "    7: ('a','c','f'),\n",
    "    8: ('a','b','c','d','e','f','g'),\n",
    "    9: ('a','b','c','d','f','g')}\n",
    "digit_cnt = dict([(i,len(digit_dct[i])) for i in range(9+1)])\n",
    "\n",
    "unique_digit_cnt = [1,4,7,8]\n",
    "unique_len = set([digit_cnt[d] for d in unique_digit_cnt])\n",
    "\n",
    "def dec8_part1(data):\n",
    "    value_cnt = 0\n",
    "    for segment in data:\n",
    "        value_cnt += np.sum([(len(o) in unique_len) for o in segment[1].split(' ')])\n",
    "    \n",
    "    return value_cnt\n",
    "\n",
    "print('Solution part 1:', dec8_part1(input_8))\n",
    "timer_function(func=dec8_part1,data=input_8,n_run=10)"
   ]
  },
  {
   "cell_type": "code",
   "execution_count": 30,
   "id": "1515614e",
   "metadata": {
    "scrolled": true
   },
   "outputs": [
    {
     "name": "stdout",
     "output_type": "stream",
     "text": [
      "Solution part 2: 996280\n",
      "Runtime: 0.0027011871337890626 s\n"
     ]
    }
   ],
   "source": [
    "# 1: 2:4, 3:3, 5:4, 0:4, 6:5, 9:4\n",
    "# 7: 2:3, 3:2, 5:3, 0:3, 6:4, 9:3\n",
    "# 4: 2:3, 3:2, 5:2, 0:3, 6:3, 9:2\n",
    "        \n",
    "def dec8_part2(data):\n",
    "    digit_sum = 0\n",
    "    for line in data:\n",
    "        segment = [list(d) for d in line[0].split(' ')]\n",
    "        output = [set(list(d)) for d in line[1].split(' ')]\n",
    "        digits = sorted([set(d) for d in segment], key=len)\n",
    "\n",
    "        # known codes\n",
    "        digit_code = {1: digits[0], 7: digits[1], 4: digits[2], 8: digits[-1]}\n",
    "        \n",
    "        # codes with length 5: (2,3,5)\n",
    "        for d in range(3,6):\n",
    "            d1 = len(digits[d] - digit_code[1])\n",
    "            d4 = len(digits[d] - digit_code[4])\n",
    "            if d1 == 3:\n",
    "                digit_code[3] = digits[d]\n",
    "            elif d4 == 3:\n",
    "                digit_code[2] = digits[d]\n",
    "            else:\n",
    "                digit_code[5] = digits[d]\n",
    "                \n",
    "        # codes with length 6: (0,6,9)\n",
    "        for d in range(6,9):\n",
    "            d1 = len(digits[d] - digit_code[1])\n",
    "            d4 = len(digits[d] - digit_code[4])\n",
    "            if d1 == 5:\n",
    "                digit_code[6] = digits[d]\n",
    "            elif d4 == 2:\n",
    "                digit_code[9] = digits[d]\n",
    "            else:\n",
    "                digit_code[0] = digits[d]\n",
    "                \n",
    "        digit_decifer = [digit_code[i] for i in range(9+1)] # letter-codes ordered after numerical value\n",
    "        digit = int(''.join([str(digit_decifer.index(o)) for o in output]))\n",
    "        digit_sum += digit\n",
    "\n",
    "    return digit_sum\n",
    "\n",
    "print('Solution part 2:', dec8_part2(input_8))\n",
    "timer_function(func=dec8_part2,data=input_8,n_run=10)"
   ]
  },
  {
   "cell_type": "code",
   "execution_count": 31,
   "id": "a74db069",
   "metadata": {},
   "outputs": [
    {
     "name": "stdout",
     "output_type": "stream",
     "text": [
      "Input length: 100\n",
      "Test input:\n",
      " [[2 1 9 9 9 4 3 2 1 0]\n",
      " [3 9 8 7 8 9 4 9 2 1]\n",
      " [9 8 5 6 7 8 9 8 9 2]\n",
      " [8 7 6 7 8 9 6 7 8 9]\n",
      " [9 8 9 9 9 6 5 6 7 8]]\n"
     ]
    }
   ],
   "source": [
    "input_test = [\n",
    "    '2199943210',\n",
    "    '3987894921',\n",
    "    '9856789892',\n",
    "    '8767896789',\n",
    "    '9899965678']\n",
    "input_test = [list(map(int,list(row))) for row in input_test]\n",
    "input_9 = [list(map(int,list(row))) for row in scrape_data(day=9)]\n",
    "print('Input length:', len(input_9))\n",
    "print('Test input:\\n', np.array(input_test))"
   ]
  },
  {
   "cell_type": "code",
   "execution_count": 32,
   "id": "c156567e",
   "metadata": {},
   "outputs": [
    {
     "name": "stdout",
     "output_type": "stream",
     "text": [
      "Solution part 1: 537\n",
      "Runtime: 0.0036036491394042967 s\n"
     ]
    }
   ],
   "source": [
    "def dec9_part1(data):\n",
    "    row_diff_left= np.diff(data, axis=1, prepend=999)\n",
    "    row_diff_right = -1*np.diff(data, axis=1, append=999)\n",
    "    col_diff_up= np.diff(data, axis=0, prepend=999)\n",
    "    col_diff_down = -1*np.diff(data, axis=0, append=999)\n",
    "    \n",
    "    min_loc = (row_diff_right < 0)*(row_diff_left < 0)*(col_diff_up < 0)*(col_diff_down < 0)\n",
    "    min_coords = np.argwhere(np.isin(min_loc, 1))\n",
    "    answer = np.sum(min_loc*data + min_loc*1)\n",
    "\n",
    "    return answer, min_loc,min_coords\n",
    "\n",
    "solution, min_loc, min_coords = dec9_part1(input_9)\n",
    "print('Solution part 1:', solution)\n",
    "timer_function(func=dec9_part1, data=input_9, n_run=10)"
   ]
  },
  {
   "cell_type": "code",
   "execution_count": 33,
   "id": "88704459",
   "metadata": {},
   "outputs": [],
   "source": [
    "def add_padding(array, num=9):\n",
    "    padded_arr = np.ones([len(array) + 2, len(array[0]) + 2])*num\n",
    "    for i, row in enumerate(array):\n",
    "        padded_arr[i+1][1:-1] = padded_arr[i+1][1:-1]*0 + row\n",
    "        \n",
    "    return padded_arr\n",
    "\n",
    "grid_padded = add_padding(input_9, 9) \n",
    "grid_padded = (grid_padded < 9)*1"
   ]
  },
  {
   "cell_type": "code",
   "execution_count": 34,
   "id": "3402c54a",
   "metadata": {},
   "outputs": [
    {
     "name": "stdout",
     "output_type": "stream",
     "text": [
      "Answer: 1142757\n"
     ]
    }
   ],
   "source": [
    "def check_neighboors(coord_ini, grid, remaining_coords, already_checked_coords):\n",
    "    x0 = coord_ini[0]\n",
    "    y0 = coord_ini[1]\n",
    "    neighbors = [(x0, y0+1), (x0, y0-1), (x0+1, y0), (x0-1, y0)]\n",
    "\n",
    "    already_checked_coords.add((x0,y0))\n",
    "    for coord in neighbors:\n",
    "        x = coord[0]\n",
    "        y = coord[1]\n",
    "        grid_val = grid[y][x]\n",
    "        \n",
    "        if grid_val == 1:\n",
    "            remaining_coords.append((x,y))\n",
    "        \n",
    "    remaining_coords = [coord for coord in remaining_coords if coord not in already_checked_coords]\n",
    "    \n",
    "    return remaining_coords, already_checked_coords\n",
    "\n",
    "\n",
    "basin_centers = [tuple([min_coords[i][1]+1, min_coords[i][0]+1]) for i in range(len(min_coords))]\n",
    "already_checked_coords = set()\n",
    "basin_sizes = []\n",
    "for basin in basin_centers:\n",
    "    already_checked_coords = set()\n",
    "    remaining_coords = [basin]\n",
    "    while len(remaining_coords) > 0:\n",
    "        remaining_coords , already_checked_coords = check_neighboors(coord_ini=remaining_coords[0],\n",
    "                                                                     grid=grid_padded,\n",
    "                                                                     remaining_coords = remaining_coords,\n",
    "                                                                     already_checked_coords=already_checked_coords)\n",
    "    basin_sizes.append(len(already_checked_coords))\n",
    "\n",
    "print('Answer:', np.product(sorted(basin_sizes)[-3:]))"
   ]
  },
  {
   "cell_type": "markdown",
   "id": "2598223d",
   "metadata": {},
   "source": [
    "# December 10"
   ]
  },
  {
   "cell_type": "code",
   "execution_count": 35,
   "id": "dbba7d33",
   "metadata": {},
   "outputs": [
    {
     "name": "stdout",
     "output_type": "stream",
     "text": [
      "Input length: 94\n",
      "Test input:\n",
      " ['[({(<(())[]>[[{[]{<()<>>' '[(()[<>])]({[<{<<[]>>('\n",
      " '{([(<{}[<>[]}>{[]{[(<()>' '(((({<>}<{<{<>}{[]{[]{}'\n",
      " '[[<[([]))<([[{}[[()]]]' '[{[{({}]{}}([{[{{{}}([]'\n",
      " '{<[[]]>}<{[{[{[]{()[[[]' '[<(<(<(<{}))><([]([]()'\n",
      " '<{([([[(<>()){}]>(<<{{' '<{([{{}}[<[[[<>{}]]]>[]]']\n"
     ]
    }
   ],
   "source": [
    "input_test = [\n",
    "    '[({(<(())[]>[[{[]{<()<>>',\n",
    "    '[(()[<>])]({[<{<<[]>>(',\n",
    "    '{([(<{}[<>[]}>{[]{[(<()>',\n",
    "    '(((({<>}<{<{<>}{[]{[]{}',\n",
    "    '[[<[([]))<([[{}[[()]]]',\n",
    "    '[{[{({}]{}}([{[{{{}}([]',\n",
    "    '{<[[]]>}<{[{[{[]{()[[[]',\n",
    "    '[<(<(<(<{}))><([]([]()',\n",
    "    '<{([([[(<>()){}]>(<<{{',\n",
    "    '<{([{{}}[<[[[<>{}]]]>[]]']\n",
    "\n",
    "input_10 = scrape_data(day=10)\n",
    "print('Input length:', len(input_10))\n",
    "print('Test input:\\n', np.array(input_test))"
   ]
  },
  {
   "cell_type": "code",
   "execution_count": 36,
   "id": "4aeccca8",
   "metadata": {},
   "outputs": [
    {
     "name": "stdout",
     "output_type": "stream",
     "text": [
      "Solution: 345441\n"
     ]
    }
   ],
   "source": [
    "# Part 1\n",
    "def remove_closed_chunks(row):\n",
    "    len_prev = len(row)\n",
    "    len_new = len_prev - 1\n",
    "    while len_new < len_prev:\n",
    "        len_prev = len_new\n",
    "        row = row.replace('()', '').replace('[]', '').replace('{}', '').replace('<>', '')\n",
    "        len_new = len(row)\n",
    "        \n",
    "    return row\n",
    "    \n",
    "def dec10_part1(data):\n",
    "    rows_corrupt = []\n",
    "    rows_incomplete = []\n",
    "    corrupt_score = 0\n",
    "    score_map = {')': 3, ']': 57, '}': 1197, '>': 25137}\n",
    "    \n",
    "    for row in data:\n",
    "        # filter out closed chunks\n",
    "        row_incomplete = remove_closed_chunks(row)\n",
    "        # remove all open chars and find first closing char\n",
    "        row_score = row_incomplete.replace('(', '').replace('[', '').replace('{', '').replace('<', '')\n",
    "\n",
    "        if len(row_score) == 0:\n",
    "            rows_incomplete.append(row_incomplete)\n",
    "        else:\n",
    "            rows_corrupt.append(row)\n",
    "            corrupt_score += score_map[row_score[0]]\n",
    "        \n",
    "\n",
    "    return rows_incomplete, rows_corrupt, corrupt_score\n",
    "        \n",
    "#input_test_trim = remove_incomplete(input_test)\n",
    "keep_rows, corrupt_rows, corrupt_score = dec10_part1(input_10)\n",
    "print('Solution:', corrupt_score)"
   ]
  },
  {
   "cell_type": "code",
   "execution_count": 37,
   "id": "85f1af43",
   "metadata": {},
   "outputs": [
    {
     "data": {
      "text/plain": [
       "3235371166.0"
      ]
     },
     "execution_count": 37,
     "metadata": {},
     "output_type": "execute_result"
    }
   ],
   "source": [
    "# Part 2\n",
    "def calculate_score(missing_chars):\n",
    "    score_map = {'(': 1, '[': 2, '{': 3, '<': 4}\n",
    "    score = 0\n",
    "    \n",
    "    for char in missing_chars:\n",
    "        score = score*5 + score_map[char]\n",
    "        \n",
    "    return score\n",
    "\n",
    "def dec10_part2(missing_lines):\n",
    "    missing_lines_ordered = [row[::-1] for row in missing_lines]\n",
    "\n",
    "    complete_score = []\n",
    "   \n",
    "    for line in missing_lines_ordered:\n",
    "        complete_score.append(calculate_score(line))\n",
    "\n",
    "    score_middle = np.median(complete_score)\n",
    "    \n",
    "    return score_middle\n",
    "\n",
    "\n",
    "keep_rows, corrupt_rows, corrupt_score = dec10_part1(input_10)\n",
    "dec10_part2(keep_rows)"
   ]
  },
  {
   "cell_type": "markdown",
   "id": "c3c5aca4",
   "metadata": {},
   "source": [
    "# December 11"
   ]
  },
  {
   "cell_type": "code",
   "execution_count": 38,
   "id": "a2658653",
   "metadata": {},
   "outputs": [
    {
     "name": "stdout",
     "output_type": "stream",
     "text": [
      "Input length: 10\n",
      "Test input:\n",
      " [[5 4 8 3 1 4 3 2 2 3]\n",
      " [2 7 4 5 8 5 4 7 1 1]\n",
      " [5 2 6 4 5 5 6 1 7 3]\n",
      " [6 1 4 1 3 3 6 1 4 6]\n",
      " [6 3 5 7 3 8 5 4 7 8]\n",
      " [4 1 6 7 5 2 4 6 4 5]\n",
      " [2 1 7 6 8 4 1 7 2 1]\n",
      " [6 8 8 2 8 8 1 1 3 4]\n",
      " [4 8 4 6 8 4 8 5 5 4]\n",
      " [5 2 8 3 7 5 1 5 2 6]]\n"
     ]
    }
   ],
   "source": [
    "input_test = [\n",
    "    '11111',\n",
    "'19991',\n",
    "'19191',\n",
    "'19991',\n",
    "'11111']\n",
    "input_test = [\n",
    "    '5483143223',\n",
    "'2745854711',\n",
    "'5264556173',\n",
    "'6141336146',\n",
    "'6357385478',\n",
    "'4167524645',\n",
    "'2176841721',\n",
    "'6882881134',\n",
    "'4846848554',\n",
    "'5283751526'\n",
    "]\n",
    "input_test = [list(map(int, row)) for row in input_test]\n",
    "input_11 = scrape_data(day=11)\n",
    "input_11 = [list(map(int, row)) for row in input_11]\n",
    "print('Input length:', len(input_11))\n",
    "print('Test input:\\n', np.array(input_test))"
   ]
  },
  {
   "cell_type": "code",
   "execution_count": 39,
   "id": "de4d20b1",
   "metadata": {},
   "outputs": [
    {
     "name": "stdout",
     "output_type": "stream",
     "text": [
      "PArt 1 answer: 1686\n",
      "Runtime: 0.02660651206970215 s\n"
     ]
    }
   ],
   "source": [
    "# Part 1\n",
    "def boost_neigbors(x, y, grid):\n",
    "    grid[y-1:y+2, x - 1] += 1\n",
    "    grid[y-1:y+2, x - 0] += 1\n",
    "    grid[y-1:y+2, x + 1] += 1\n",
    "    \n",
    "    return grid\n",
    "\n",
    "\n",
    "def run_step(grid):\n",
    "    n_row = len(grid) - 1\n",
    "    n_col = len(grid[0]) - 1\n",
    "    grid_old = grid.copy()\n",
    "    grid_new = grid.copy() + 1\n",
    "    \n",
    "    while np.array_equal(grid_new, grid_old, equal_nan=True) is False:\n",
    "\n",
    "        grid_old = grid_new.copy()\n",
    "        \n",
    "        for yi in range(1, n_row):\n",
    "            for xi in range(1, n_col):\n",
    "                if grid_new[yi, xi] > 9:\n",
    "                    grid_new = boost_neigbors(x=xi, y=yi, grid=grid_new)\n",
    "                    grid_new[yi, xi] = np.nan\n",
    "\n",
    "    grid_new[np.isnan(grid_new)] = 0\n",
    "\n",
    "\n",
    "    return grid_new\n",
    "\n",
    "def run_n_steps(grid):\n",
    "    n_steps=100\n",
    "    flash_sum = 0\n",
    "    for n in range(n_steps):\n",
    "        grid = run_step(grid)\n",
    "        mask_flash = grid == 0\n",
    "        flash_sum += np.sum(mask_flash)\n",
    "\n",
    "    return flash_sum, grid\n",
    "\n",
    "\n",
    "input_padded = add_padding(input_11)\n",
    "answer, grid = run_n_steps(input_padded)\n",
    "print('PArt 1 answer:', answer)\n",
    "timer_function(func=run_n_steps, data=input_padded, n_run=10)"
   ]
  },
  {
   "cell_type": "code",
   "execution_count": 40,
   "id": "93912128",
   "metadata": {},
   "outputs": [
    {
     "name": "stdout",
     "output_type": "stream",
     "text": [
      "Part 2 solution: 360\n",
      "Runtime: 0.08673608303070068 s\n"
     ]
    }
   ],
   "source": [
    "# Part 2\n",
    "def flash_simul(grid):\n",
    "    flashes = 0\n",
    "    n_all = (len(grid) - 2)**2\n",
    "    step = 0\n",
    "    \n",
    "    while (flashes != n_all):\n",
    "        grid = run_step(grid)\n",
    "        flashes = np.sum(grid == 0)\n",
    "\n",
    "        step += 1\n",
    "        \n",
    "    return step\n",
    "\n",
    "grid = add_padding(input_11,-999)\n",
    "\n",
    "steps = flash_simul(grid)\n",
    "print('Part 2 solution:', steps)\n",
    "timer_function(func=flash_simul, data=grid, n_run=10)"
   ]
  },
  {
   "cell_type": "markdown",
   "id": "438203ab",
   "metadata": {},
   "source": [
    "# December 12"
   ]
  },
  {
   "cell_type": "code",
   "execution_count": 41,
   "id": "a51242f0",
   "metadata": {},
   "outputs": [
    {
     "name": "stdout",
     "output_type": "stream",
     "text": [
      "Input length: 22\n",
      "Test input:\n",
      " [['start' 'A']\n",
      " ['start' 'b']\n",
      " ['A' 'c']\n",
      " ['A' 'b']\n",
      " ['b' 'd']\n",
      " ['A' 'end']\n",
      " ['b' 'end']]\n"
     ]
    }
   ],
   "source": [
    "input_test = ['start-A',\n",
    "'start-b',\n",
    "'A-c',\n",
    "'A-b',\n",
    "'b-d',\n",
    "'A-end',\n",
    "'b-end']\n",
    "\n",
    "# input_test = ['dc-end',\n",
    "# 'HN-start',\n",
    "# 'start-kj',\n",
    "# 'dc-start',\n",
    "# 'dc-HN',\n",
    "# 'LN-dc',\n",
    "# 'HN-end',\n",
    "# 'kj-sa',\n",
    "# 'kj-HN',\n",
    "# 'kj-dc']\n",
    "\n",
    "# input_test = ['fs-end',\n",
    "# 'he-DX',\n",
    "# 'fs-he',\n",
    "# 'start-DX',\n",
    "# 'pj-DX',\n",
    "# 'end-zg',\n",
    "# 'zg-sl',\n",
    "# 'zg-pj',\n",
    "# 'pj-he',\n",
    "# 'RW-he',\n",
    "# 'fs-DX',\n",
    "# 'pj-RW',\n",
    "# 'zg-RW',\n",
    "# 'start-pj',\n",
    "# 'he-WI',\n",
    "# 'zg-he',\n",
    "# 'pj-fs',\n",
    "# 'start-RW']\n",
    "\n",
    "input_test = [line.split('-') for line in input_test]\n",
    "input_12 = scrape_data(day=12)\n",
    "input_12 = [line.split('-') for line in input_12]\n",
    "print('Input length:', len(input_12))\n",
    "print('Test input:\\n', np.array(input_test))"
   ]
  },
  {
   "cell_type": "code",
   "execution_count": 42,
   "id": "eb56999d",
   "metadata": {},
   "outputs": [
    {
     "data": {
      "text/plain": [
       "{'GC': ['ca', 'end', 'ky', 'lk', 'zi', 'zv'],\n",
       " 'zi': ['GC', 'ca', 'lk'],\n",
       " 'zv': ['FU', 'GC', 'QQ', 'ca', 'end'],\n",
       " 'lk': ['FU', 'GC', 'ca', 'iv', 'zi'],\n",
       " 'ca': ['FU', 'GC', 'iv', 'lk', 'zi', 'zv'],\n",
       " 'ky': ['GC'],\n",
       " 'FU': ['ca', 'end', 'iv', 'lk', 'zv'],\n",
       " 'iv': ['FU', 'ca', 'lk'],\n",
       " 'start': ['iv', 'lk', 'zi'],\n",
       " 'QQ': ['zv']}"
      ]
     },
     "execution_count": 42,
     "metadata": {},
     "output_type": "execute_result"
    }
   ],
   "source": [
    "import random\n",
    "\n",
    "def create_neighbor(data):\n",
    "    graph = {}\n",
    "    for path in data:\n",
    "        n = graph.get(path[0], list())\n",
    "        n.append(path[1])\n",
    "        graph[path[0]] = n\n",
    "        \n",
    "        n = graph.get(path[1], list())\n",
    "        n.append(path[0])\n",
    "        graph[path[1]] = n\n",
    "    \n",
    "    # remove end node\n",
    "    graph.pop('end')\n",
    "    \n",
    "    for node in graph.copy():\n",
    "        # remove start as a neighbor\n",
    "        if node != 'start' and 'start' in graph[node]:\n",
    "            n = graph[node]\n",
    "            graph[node].remove('start')\n",
    "            graph[node] = n\n",
    "            \n",
    "        graph[node] = sorted(graph[node])\n",
    " \n",
    "    return graph\n",
    "\n",
    "\n",
    "graph = create_neighbor(input_12)\n",
    "graph"
   ]
  },
  {
   "cell_type": "code",
   "execution_count": 43,
   "id": "7f3ba0f6",
   "metadata": {},
   "outputs": [
    {
     "data": {
      "text/plain": [
       "5252"
      ]
     },
     "execution_count": 43,
     "metadata": {},
     "output_type": "execute_result"
    }
   ],
   "source": [
    "# Part 1 - recursion\n",
    "def add_node_part1(adj_lst, node_current, node_explored, path_current):\n",
    "    global path_count\n",
    "\n",
    "    for node in adj_lst[node_current]:\n",
    "        new_explored = node_explored.copy()\n",
    "        new_path = path_current.copy()\n",
    "        new_path.append(node)\n",
    "        \n",
    "        if node == 'end':\n",
    "            path_count += 1 \n",
    "        elif node not in node_explored:\n",
    "            if node.islower():\n",
    "                new_explored.add(node)\n",
    "            # recursive call\n",
    "            add_node_part1(adj_lst, node_current=node, node_explored=new_explored, path_current=new_path)\n",
    "        else:\n",
    "            pass\n",
    "\n",
    "    return path_count\n",
    "        \n",
    "\n",
    "def find_paths(adj_lst, start_node='start', end_node='end'):\n",
    "    explored = set() # explored\n",
    "    path = [start_node]\n",
    "    explored.add(start_node)\n",
    "    count = add_node_part1(adj_lst, node_current=start_node, node_explored=explored, path_current=path)\n",
    "    \n",
    "    return count\n",
    "\n",
    "global path_count\n",
    "path_count = 0\n",
    "find_paths(graph, start_node='start', end_node='end')\n"
   ]
  },
  {
   "cell_type": "code",
   "execution_count": 44,
   "id": "ac78e181",
   "metadata": {},
   "outputs": [
    {
     "data": {
      "text/plain": [
       "10"
      ]
     },
     "execution_count": 44,
     "metadata": {},
     "output_type": "execute_result"
    }
   ],
   "source": [
    "# Breadth first Search algo\n",
    "def bfs(adj_lst, start_node='start', end_node='end'):\n",
    "    queue = [] # queue\n",
    "    explored = set() # explored\n",
    "    path_count = 0\n",
    "\n",
    "    queue.append(start_node)\n",
    "    \n",
    "    while len(queue) > 0:\n",
    "        node = queue.pop()\n",
    "                    \n",
    "        for neighbor in adj_lst[node]:\n",
    "            if neighbor == end_node:\n",
    "                path_count += 1\n",
    "            elif neighbor.islower() and (neighbor not in explored):\n",
    "                explored.add(neighbor)\n",
    "                queue.append(neighbor)\n",
    "            elif neighbor.isupper():\n",
    "                queue.append(neighbor)\n",
    "                \n",
    "    return path_count\n",
    "\n",
    "bfs(graph, start_node='start', end_node='end')"
   ]
  },
  {
   "cell_type": "code",
   "execution_count": 45,
   "id": "47c67b90",
   "metadata": {},
   "outputs": [
    {
     "data": {
      "text/plain": [
       "147784"
      ]
     },
     "execution_count": 45,
     "metadata": {},
     "output_type": "execute_result"
    }
   ],
   "source": [
    "# Part 2\n",
    "def add_node_part2(adj_lst, node_current, path_current, cave_cnt):\n",
    "    global path_count\n",
    "\n",
    "    for node in adj_lst[node_current]:\n",
    "        new_path = path_current.copy()\n",
    "        new_path.append(node)\n",
    "        new_cave_cnt = cave_cnt.copy()\n",
    "        \n",
    "        if node == 'end':\n",
    "            path_count += 1\n",
    "        elif node.islower():\n",
    "            new_cave_cnt[node] += 1\n",
    "\n",
    "            if new_cave_cnt[node] == 2:\n",
    "                explored = set()\n",
    "                for cave in new_cave_cnt:\n",
    "                    if new_cave_cnt[cave] > 0:\n",
    "                        explored.add(cave)\n",
    "\n",
    "                # recursive call to part 1\n",
    "                add_node_part1(adj_lst, node_current=node, node_explored=explored, path_current=new_path)\n",
    "            else:\n",
    "                add_node_part2(adj_lst, node_current=node, path_current=new_path, cave_cnt=new_cave_cnt)\n",
    "        else:\n",
    "            # recursive call\n",
    "            add_node_part2(adj_lst, node_current=node, path_current=new_path, cave_cnt=new_cave_cnt)\n",
    "\n",
    "\n",
    "    return path_count\n",
    "        \n",
    "\n",
    "def find_paths_part2(adj_lst, start_node='start', end_node='end'):\n",
    "    path = [start_node]\n",
    "    \n",
    "    cave_cnt = {}\n",
    "    for node in adj_lst:\n",
    "        if node.islower() and node not in [start_node, end_node]:\n",
    "            cave_cnt[node] = 0\n",
    "  \n",
    "    count = add_node_part2(adj_lst, node_current=start_node, path_current=path, cave_cnt=cave_cnt)\n",
    "    \n",
    "    return count\n",
    "\n",
    "global path_count\n",
    "path_count = 0\n",
    "\n",
    "find_paths_part2(graph, start_node='start', end_node='end')\n"
   ]
  },
  {
   "cell_type": "markdown",
   "id": "863398f8",
   "metadata": {},
   "source": [
    "# December 13"
   ]
  },
  {
   "cell_type": "code",
   "execution_count": 46,
   "id": "94df9df2",
   "metadata": {},
   "outputs": [
    {
     "name": "stdout",
     "output_type": "stream",
     "text": [
      "Input length: 1033\n",
      "Test input:\n",
      " ['6,10' '0,14' '9,10' '0,3' '10,4' '4,11' '6,0' '6,12' '4,1' '0,13'\n",
      " '10,12' '3,4' '3,0' '8,4' '1,10' '2,14' '8,10' '9,0' '' 'fold along y=7'\n",
      " 'fold along x=5']\n"
     ]
    }
   ],
   "source": [
    "input_test = ['6,10',\n",
    "'0,14',\n",
    "'9,10',\n",
    "'0,3',\n",
    "'10,4',\n",
    "'4,11',\n",
    "'6,0',\n",
    "'6,12',\n",
    "'4,1',\n",
    "'0,13',\n",
    "'10,12',\n",
    "'3,4',\n",
    "'3,0',\n",
    "'8,4',\n",
    "'1,10',\n",
    "'2,14',\n",
    "'8,10',\n",
    "'9,0',\n",
    "'',\n",
    "'fold along y=7',\n",
    "'fold along x=5']\n",
    "\n",
    "input_13 = scrape_data(day=13)\n",
    "print('Input length:', len(input_13))\n",
    "print('Test input:\\n', np.array(input_test))"
   ]
  },
  {
   "cell_type": "code",
   "execution_count": 47,
   "id": "fed1ca38",
   "metadata": {},
   "outputs": [
    {
     "name": "stdout",
     "output_type": "stream",
     "text": [
      "[(6, 10), (0, 14), (9, 10), (0, 3), (10, 4), (4, 11), (6, 0), (6, 12), (4, 1), (0, 13), (10, 12), (3, 4), (3, 0), (8, 4), (1, 10), (2, 14), (8, 10), (9, 0)]\n",
      "[('y', 7), ('x', 5)]\n"
     ]
    }
   ],
   "source": [
    "def data_parse_13(data):\n",
    "    \n",
    "    dots = [tuple(map(int, x.split(','))) for x in data if len(x) > 0 and x[0] != 'f']\n",
    "    folds = [list(map(str, x.split('='))) for x in data if len(x) > 0 and x[0] == 'f']\n",
    "    folds = [(f[0][-1], int(f[1])) for f in folds]\n",
    "    \n",
    "    return dots, folds\n",
    "\n",
    "dots, folds = data_parse_13(input_test)\n",
    "print(dots)\n",
    "print(folds)"
   ]
  },
  {
   "cell_type": "code",
   "execution_count": 48,
   "id": "8d0e2aa2",
   "metadata": {},
   "outputs": [
    {
     "name": "stdout",
     "output_type": "stream",
     "text": [
      "Fold 1, ('x', 655): 850\n",
      "Fold 2, ('y', 447): 698\n",
      "Fold 3, ('x', 327): 588\n",
      "Fold 4, ('y', 223): 494\n",
      "Fold 5, ('x', 163): 398\n",
      "Fold 6, ('y', 111): 344\n",
      "Fold 7, ('x', 81): 280\n",
      "Fold 8, ('y', 55): 231\n",
      "Fold 9, ('x', 40): 190\n",
      "Fold 10, ('y', 27): 155\n",
      "Fold 11, ('y', 13): 122\n",
      "Fold 12, ('y', 6): 102\n"
     ]
    }
   ],
   "source": [
    "# PArt 1\n",
    "def dec13_part1(dots, folds):\n",
    "    dot_grid = set(dots)\n",
    "    dots_current = dots.copy()\n",
    "    \n",
    "    for n_fold, fold in enumerate(folds, 1):\n",
    "        axis = fold[0]\n",
    "        coord = fold[1]\n",
    "        \n",
    "        if axis == 'x':\n",
    "            [dot_grid.add((2*coord - d[0], d[1])) for d in dots_current if d[0] > coord]\n",
    "            [dot_grid.remove(d) for d in dots_current if d[0] > coord]\n",
    "        else:\n",
    "            [dot_grid.add((d[0], 2*coord - d[1])) for d in dots_current if d[1] > coord]\n",
    "            [dot_grid.remove(d) for d in dots_current if d[1] > coord]\n",
    "        \n",
    "        dots_current = dot_grid.copy()\n",
    "        print(f'Fold {n_fold}, {fold}:', len(dot_grid))\n",
    "    \n",
    "    return dot_grid\n",
    "        \n",
    "dots, folds = data_parse_13(input_13)\n",
    "final_dot_grid = dec13_part1(dots, folds)"
   ]
  },
  {
   "cell_type": "code",
   "execution_count": 49,
   "id": "ef592db6",
   "metadata": {},
   "outputs": [
    {
     "name": "stdout",
     "output_type": "stream",
     "text": [
      "[[0. 1. 1. 0.]\n",
      " [1. 0. 0. 1.]\n",
      " [1. 0. 0. 1.]\n",
      " [1. 1. 1. 1.]\n",
      " [1. 0. 0. 1.]\n",
      " [1. 0. 0. 1.]]\n",
      "[[0. 1. 0. 0. 1.]\n",
      " [0. 1. 0. 0. 1.]\n",
      " [0. 1. 1. 1. 1.]\n",
      " [0. 1. 0. 0. 1.]\n",
      " [0. 1. 0. 0. 1.]\n",
      " [0. 1. 0. 0. 1.]]\n",
      "[[0. 0. 1. 1. 0.]\n",
      " [0. 1. 0. 0. 1.]\n",
      " [0. 1. 0. 0. 0.]\n",
      " [0. 1. 0. 1. 1.]\n",
      " [0. 1. 0. 0. 1.]\n",
      " [0. 0. 1. 1. 1.]]\n",
      "[[0. 0. 1. 1. 0.]\n",
      " [0. 1. 0. 0. 1.]\n",
      " [0. 1. 0. 0. 0.]\n",
      " [0. 1. 0. 0. 0.]\n",
      " [0. 1. 0. 0. 1.]\n",
      " [0. 0. 1. 1. 0.]]\n",
      "[[0. 1. 1. 1. 0.]\n",
      " [0. 1. 0. 0. 1.]\n",
      " [0. 1. 0. 0. 1.]\n",
      " [0. 1. 1. 1. 0.]\n",
      " [0. 1. 0. 0. 0.]\n",
      " [0. 1. 0. 0. 0.]]\n",
      "[[0. 0. 1. 1. 0.]\n",
      " [0. 1. 0. 0. 1.]\n",
      " [0. 1. 0. 0. 0.]\n",
      " [0. 1. 0. 1. 1.]\n",
      " [0. 1. 0. 0. 1.]\n",
      " [0. 0. 1. 1. 1.]]\n",
      "[[0. 0. 1. 1. 0.]\n",
      " [0. 1. 0. 0. 1.]\n",
      " [0. 1. 0. 0. 1.]\n",
      " [0. 1. 1. 1. 1.]\n",
      " [0. 1. 0. 0. 1.]\n",
      " [0. 1. 0. 0. 1.]]\n",
      "[[0. 1. 0. 0. 1.]\n",
      " [0. 1. 0. 0. 1.]\n",
      " [0. 1. 0. 0. 1.]\n",
      " [0. 1. 0. 0. 1.]\n",
      " [0. 1. 0. 0. 1.]\n",
      " [0. 0. 1. 1. 0.]]\n"
     ]
    }
   ],
   "source": [
    "# Part 2\n",
    "n_col = np.max([dot[0] for dot in final_dot_grid])\n",
    "n_row = np.max([dot[1] for dot in final_dot_grid])\n",
    "\n",
    "dot_grid = np.zeros([n_row+1, n_col+1])\n",
    "for dot in final_dot_grid:\n",
    "    dot_grid[dot[1]][dot[0]] = 1\n",
    "\n",
    "idx = np.where(np.sum(dot_grid,axis=0) == 0)\n",
    "idx = np.insert(idx, [0], 0)\n",
    "idx = np.append(idx, [n_col+1])\n",
    "\n",
    "for i in range(len(idx)-1):\n",
    "    print(dot_grid[:, idx[i]:idx[i+1]])\n",
    "\n",
    "# A H G C P G A U"
   ]
  },
  {
   "cell_type": "markdown",
   "id": "a587605d",
   "metadata": {},
   "source": [
    "# December 14"
   ]
  },
  {
   "cell_type": "code",
   "execution_count": 50,
   "id": "3e4a3599",
   "metadata": {},
   "outputs": [
    {
     "name": "stdout",
     "output_type": "stream",
     "text": [
      "Input length: 102\n",
      "Test input:\n",
      " ['NNCB' '' 'CH -> B' 'HH -> N' 'CB -> H' 'NH -> C' 'HB -> C' 'HC -> B'\n",
      " 'HN -> C' 'NN -> C' 'BH -> H' 'NC -> B' 'NB -> B' 'BN -> B' 'BB -> N'\n",
      " 'BC -> B' 'CC -> N' 'CN -> C']\n"
     ]
    }
   ],
   "source": [
    "input_test = ['NNCB',\n",
    "              '',\n",
    "                'CH -> B',\n",
    "                'HH -> N',\n",
    "                'CB -> H',\n",
    "                'NH -> C',\n",
    "                'HB -> C',\n",
    "                'HC -> B',\n",
    "                'HN -> C',\n",
    "                'NN -> C',\n",
    "                'BH -> H',\n",
    "                'NC -> B',\n",
    "                'NB -> B',\n",
    "                'BN -> B',\n",
    "                'BB -> N',\n",
    "                'BC -> B',\n",
    "                'CC -> N',\n",
    "                'CN -> C']\n",
    "\n",
    "input_14 = scrape_data(day=14)\n",
    "print('Input length:', len(input_14))\n",
    "print('Test input:\\n', np.array(input_test))"
   ]
  },
  {
   "cell_type": "code",
   "execution_count": 51,
   "id": "e6bf72ab",
   "metadata": {},
   "outputs": [
    {
     "data": {
      "text/plain": [
       "('NNCB',\n",
       " {'CH': 'CbH',\n",
       "  'HHH': 'HnHnH',\n",
       "  'HH': 'HnH',\n",
       "  'CB': 'ChB',\n",
       "  'NH': 'NcH',\n",
       "  'HB': 'HcB',\n",
       "  'HC': 'HbC',\n",
       "  'HN': 'HcN',\n",
       "  'NNN': 'NcNcN',\n",
       "  'NN': 'NcN',\n",
       "  'BH': 'BhH',\n",
       "  'NC': 'NbC',\n",
       "  'NB': 'NbB',\n",
       "  'BN': 'BbN',\n",
       "  'BBB': 'BnBnB',\n",
       "  'BB': 'BnB',\n",
       "  'BC': 'BbC',\n",
       "  'CCC': 'CnCnC',\n",
       "  'CC': 'CnC',\n",
       "  'CN': 'CcN'})"
      ]
     },
     "execution_count": 51,
     "metadata": {},
     "output_type": "execute_result"
    }
   ],
   "source": [
    "def input_parse_14_part1(data):\n",
    "    seq_start = data[0]\n",
    "    rules = [i.split(' -> ') for i in data[2:]]\n",
    "    rules_triple = {}\n",
    "    for rule in rules.copy():\n",
    "        char_1 = rule[0][0]\n",
    "        char_2 = rule[0][1]\n",
    "        char_new = str.lower(rule[1])\n",
    "        \n",
    "        # A single char might appear 3 consecutive times at most\n",
    "        if char_1 == char_2:\n",
    "            rules_triple[3*char_1] = char_1 + char_new + char_2 + char_new +char_2\n",
    "\n",
    "        rules_triple[rule[0]] = char_1 + char_new + char_2\n",
    "\n",
    "    return seq_start, rules_triple\n",
    "input_parse_14_part1(input_test)"
   ]
  },
  {
   "cell_type": "code",
   "execution_count": 52,
   "id": "453a812f",
   "metadata": {},
   "outputs": [
    {
     "name": "stdout",
     "output_type": "stream",
     "text": [
      "Step 1: polymer length 7\n",
      "Step 2: polymer length 13\n",
      "Step 3: polymer length 25\n",
      "Step 4: polymer length 49\n",
      "Step 5: polymer length 97\n",
      "Step 6: polymer length 193\n",
      "Step 7: polymer length 385\n",
      "Step 8: polymer length 769\n",
      "Step 9: polymer length 1537\n",
      "Step 10: polymer length 3073\n",
      "Count of characters in polymer \n",
      " {'B': 1749, 'C': 298, 'H': 161, 'N': 865}\n",
      "Difference betwen max and min character counts: 1588\n"
     ]
    }
   ],
   "source": [
    "def dec14_part1(data, steps):\n",
    "    seq, rules = input_parse_14_part1(data=data)\n",
    "    \n",
    "    # Insert between pairs\n",
    "    for step in range(1, steps + 1):\n",
    "        for rule in rules:\n",
    "            seq = seq.replace(rule, rules[rule])\n",
    "            \n",
    "        seq = str.upper(seq)\n",
    "        print(f'Step {step}: polymer length {len(seq)}')\n",
    "    \n",
    "    # find min/max\n",
    "    seq_lst = list(seq)\n",
    "    char_cnt_dct = {}\n",
    "    for char in np.unique(seq_lst):\n",
    "        char_cnt_dct[char] = seq_lst.count(char)\n",
    "    \n",
    "    print(f'Count of characters in polymer \\n', char_cnt_dct)\n",
    "    cnt_min = char_cnt_dct[min(char_cnt_dct, key=char_cnt_dct.get)]\n",
    "    cnt_max = char_cnt_dct[max(char_cnt_dct, key=char_cnt_dct.get)]\n",
    "    \n",
    "    answer = cnt_max - cnt_min\n",
    "    \n",
    "    return answer\n",
    "\n",
    "answer = dec14_part1(data=input_test, steps=10)\n",
    "print(f'Difference betwen max and min character counts:', answer)"
   ]
  },
  {
   "cell_type": "code",
   "execution_count": 53,
   "id": "b8e1e1a6",
   "metadata": {},
   "outputs": [
    {
     "name": "stdout",
     "output_type": "stream",
     "text": [
      "Polymer has length 20,890,720,927,745 with a distribution of characters:\n",
      " {'B': 2110238569763, 'C': 721076812001, 'F': 3828470546714, 'H': 1394050790085, 'K': 2058813349699, 'N': 2572922913435, 'O': 2127526166530, 'P': 2578458607681, 'S': 2903118851587, 'V': 596044320250}\n",
      "Max char - min char count: 3,232,426,226,464\n"
     ]
    }
   ],
   "source": [
    " # Part 2 - Dont iterate htorugh series, but just count evolutions\n",
    "def input_parse_14_part2(data):\n",
    "    seq_start = data[0]\n",
    "    rules = [i.split(' -> ') for i in data[2:]]\n",
    "    rules = dict(sorted([(r[0], r[1]) for r in rules]))\n",
    "\n",
    "    return seq_start, rules\n",
    "\n",
    "def pair_trasform(rules):\n",
    "    transform = {}\n",
    "    for r in rules:\n",
    "        transform[r] = [r[0] + rules[r], rules[r] + r[1]]\n",
    "    return transform\n",
    "\n",
    "def initialize_char_count(seq, rules):\n",
    "    chars = ''\n",
    "    for r in rules:\n",
    "        chars += r\n",
    "    char_cnt = {}\n",
    "    for char in np.unique(list(chars)):\n",
    "        char_cnt[char] = 0\n",
    "    \n",
    "    for char in seq:\n",
    "        char_cnt[char] +=1\n",
    "        \n",
    "    return char_cnt\n",
    "\n",
    "def initialize_pair_count(seq, rules):\n",
    "    pair_cnt = {}\n",
    "    for rule in rules:\n",
    "        pair_cnt[rule] = 0\n",
    "    \n",
    "    pairs_initial = [seq[i:i+2] for i in range(len(seq)-1)]\n",
    "    for pair in pairs_initial:\n",
    "        pair_cnt[pair] += 1\n",
    "        \n",
    "    return pair_cnt\n",
    "\n",
    "def dec14_part2(data, steps):\n",
    "    seq, rules = input_parse_14_part2(data)\n",
    "    pair_trans = pair_trasform(rules)\n",
    "    char_cnt = initialize_char_count(seq, rules)\n",
    "    pair_cnt = initialize_pair_count(seq, rules)\n",
    "\n",
    "    for step in range(1, steps + 1):\n",
    "        pair_count_current = pair_cnt.copy()\n",
    "        for pair in pair_cnt:\n",
    "            n_pair_current = pair_count_current[pair]\n",
    "            char_cnt[rules[pair]] += 1*n_pair_current\n",
    "            pair_cnt[pair] -= 1*n_pair_current\n",
    "            for new_pair in pair_trans[pair]:\n",
    "                pair_cnt[new_pair] += 1*n_pair_current\n",
    "\n",
    "    \n",
    "    cnt_min = char_cnt[min(char_cnt, key=char_cnt.get)]\n",
    "    cnt_max = char_cnt[max(char_cnt, key=char_cnt.get)]\n",
    "    polymer_lenght = sum([char_cnt[key] for key in char_cnt])\n",
    "    \n",
    "    answer = cnt_max - cnt_min\n",
    "    return answer, polymer_lenght, char_cnt\n",
    "\n",
    "answer, polymer_lenght, char_cnt = dec14_part2(data=input_14, steps=40)\n",
    "print(f'Polymer has length {polymer_lenght:,} with a distribution of characters:\\n', char_cnt)\n",
    "print(f'Max char - min char count: {answer:,}')"
   ]
  },
  {
   "cell_type": "markdown",
   "id": "2aff5e84",
   "metadata": {},
   "source": [
    "# December 15"
   ]
  },
  {
   "cell_type": "code",
   "execution_count": 54,
   "id": "4175d29b",
   "metadata": {},
   "outputs": [
    {
     "name": "stdout",
     "output_type": "stream",
     "text": [
      "Input length: 100\n",
      "Test input:\n",
      " [[1 1 6 3 7 5 1 7 4 2]\n",
      " [1 3 8 1 3 7 3 6 7 2]\n",
      " [2 1 3 6 5 1 1 3 2 8]\n",
      " [3 6 9 4 9 3 1 5 6 9]\n",
      " [7 4 6 3 4 1 7 1 1 1]\n",
      " [1 3 1 9 1 2 8 1 3 7]\n",
      " [1 3 5 9 9 1 2 4 2 1]\n",
      " [3 1 2 5 4 2 1 6 3 9]\n",
      " [1 2 9 3 1 3 8 5 2 1]\n",
      " [2 3 1 1 9 4 4 5 8 1]]\n"
     ]
    }
   ],
   "source": [
    "input_test = [\n",
    "    '1163751742',\n",
    "    '1381373672',\n",
    "    '2136511328',\n",
    "    '3694931569',\n",
    "    '7463417111',\n",
    "    '1319128137',\n",
    "    '1359912421',\n",
    "    '3125421639',\n",
    "    '1293138521',\n",
    "    '2311944581'\n",
    "]\n",
    "input_test = np.array([list(map(int, row)) for row in input_test])\n",
    "input_15 = scrape_data(day=15)\n",
    "input_15 = np.array([list(map(int, row)) for row in input_15])\n",
    "print('Input length:', len(input_15))\n",
    "print('Test input:\\n', np.array(input_test))"
   ]
  },
  {
   "cell_type": "code",
   "execution_count": 55,
   "id": "ee4f6697",
   "metadata": {},
   "outputs": [
    {
     "name": "stdout",
     "output_type": "stream",
     "text": [
      "[[1 1 6 3 7 5 1 7 4 2]\n",
      " [1 3 8 1 3 7 3 6 7 2]\n",
      " [2 1 3 6 5 1 1 3 2 8]\n",
      " [3 6 9 4 9 3 1 5 6 9]\n",
      " [7 4 6 3 4 1 7 1 1 1]\n",
      " [1 3 1 9 1 2 8 1 3 7]\n",
      " [1 3 5 9 9 1 2 4 2 1]\n",
      " [3 1 2 5 4 2 1 6 3 9]\n",
      " [1 2 9 3 1 3 8 5 2 1]\n",
      " [2 3 1 1 9 4 4 5 8 1]]\n"
     ]
    },
    {
     "data": {
      "text/plain": [
       "[(8, 9), (9, 8)]"
      ]
     },
     "execution_count": 55,
     "metadata": {},
     "output_type": "execute_result"
    }
   ],
   "source": [
    "# PArt 1 - Dijkstra's algorithm\n",
    "def get_neigbor_nodes(index, grid):\n",
    "    # No diagonal neighbors\n",
    "    n_row = len(grid) - 1\n",
    "    n_col = len(grid[0]) - 1\n",
    "    x = index[1]\n",
    "    y = index[0]\n",
    "    \n",
    "    neighbors = [(y - 1, x), (y + 1, x), (y, x - 1), (y, x + 1)]\n",
    "    neighbors_valid = [i for i in neighbors if (i[0] >= 0) and (i[0] <= n_row) and (i[1] >= 0) and (i[1] <= n_col)]\n",
    "    \n",
    "    return neighbors_valid\n",
    "\n",
    "grid = input_test.copy()\n",
    "print(grid)\n",
    "get_neigbor_nodes((9,9), grid)"
   ]
  },
  {
   "cell_type": "code",
   "execution_count": 56,
   "id": "90b16d30",
   "metadata": {},
   "outputs": [
    {
     "name": "stdout",
     "output_type": "stream",
     "text": [
      "Found target\n",
      "Solution, total risk: 40\n",
      "Runtime: 0.007001638412475586\n"
     ]
    }
   ],
   "source": [
    "def dijkstra(graph, source, target=None):\n",
    "    Q = set()\n",
    "    dist = {}\n",
    "    prev = {}\n",
    "    value = {}\n",
    "    \n",
    "    for idx_row, row in enumerate(graph):\n",
    "        for idx_col, col in enumerate(row):\n",
    "            v = (idx_row, idx_col)\n",
    "            dist[v] = np.inf\n",
    "            prev[v] = np.nan\n",
    "            value[v] = graph[v]\n",
    "            Q.add(v)\n",
    "\n",
    "    dist[source] = 0\n",
    "    \n",
    "    while len(Q) > 0:\n",
    "        dist_search = [d for d in dist if d in Q]\n",
    "        u = min(dist_search, key=dist.get)\n",
    "        Q.remove(u)\n",
    "        \n",
    "        if u == target:\n",
    "            print('Found target')\n",
    "            break\n",
    "        \n",
    "        neighbors = get_neigbor_nodes(index=u, grid=graph)\n",
    "        neighbors_in_Q = [n for n in neighbors if n in Q]\n",
    "        for neighbor in neighbors_in_Q:\n",
    "            alt = dist[u] + value[neighbor]\n",
    "            if alt < dist[neighbor]:\n",
    "                dist[neighbor] = alt\n",
    "                prev[neighbor] = u\n",
    "            \n",
    "    return dist, prev, Q\n",
    "\n",
    "grid = input_test\n",
    "t0 = time.time()\n",
    "dist, prev, Q = dijkstra(graph=grid, source=(0,0), target=(len(grid)-1, len(grid[0])-1))\n",
    "print('Solution, total risk:', dist[len(grid)-1, len(grid[0])-1])\n",
    "print('Runtime:', time.time()-t0)"
   ]
  },
  {
   "cell_type": "code",
   "execution_count": 57,
   "id": "c71e33fd",
   "metadata": {},
   "outputs": [
    {
     "name": "stdout",
     "output_type": "stream",
     "text": [
      "Found target\n",
      "Solution, total risk: 388\n",
      "Runtime: 0.24706196784973145\n"
     ]
    }
   ],
   "source": [
    "import heapq\n",
    "\n",
    "def dijkstra_heapq(graph, source, target=None):\n",
    "    dist = {}\n",
    "    heap = []\n",
    "    prev = {}\n",
    "    value = {}\n",
    "    \n",
    "    for idx_row, row in enumerate(graph):\n",
    "        for idx_col, col in enumerate(row):\n",
    "            v = (idx_row, idx_col)\n",
    "            dist[v] = np.inf\n",
    "            prev[v] = np.nan\n",
    "            value[v] = graph[v]\n",
    "            heapq.heappush(heap, (np.inf, v))\n",
    "\n",
    "    dist[source] = 0\n",
    "    heapq.heappush(heap, (0, source))\n",
    "    \n",
    "    while len(heap) > 0:\n",
    "        u = heapq.heappop(heap)[1]\n",
    "        \n",
    "        if u == target:\n",
    "            print('Found target')\n",
    "            break\n",
    "        \n",
    "        neighbors = get_neigbor_nodes(index=u, grid=graph)\n",
    "        for neighbor in neighbors:\n",
    "            alt = dist[u] + value[neighbor]\n",
    "            if alt < dist[neighbor]:\n",
    "                dist[neighbor] = alt\n",
    "                heapq.heappush(heap, (alt, neighbor))\n",
    "                prev[neighbor] = u\n",
    "            \n",
    "    return dist, prev, heap\n",
    "\n",
    "grid = input_15\n",
    "t0 = time.time()\n",
    "dist, prev, heap = dijkstra_heapq(graph=grid, source=(0,0), target=(len(grid)-1, len(grid[0])-1))\n",
    "print('Solution, total risk:', dist[len(grid)-1, len(grid[0])-1])\n",
    "print('Runtime:', time.time()-t0)"
   ]
  },
  {
   "cell_type": "code",
   "execution_count": 58,
   "id": "2831f9e5",
   "metadata": {},
   "outputs": [
    {
     "name": "stdout",
     "output_type": "stream",
     "text": [
      "Found target\n",
      "Solution, total risk: 388\n",
      "Runtime: 0.24657058715820312\n"
     ]
    }
   ],
   "source": [
    "# PArt 2\n",
    "def a_star_heapq(graph, source, target=None):\n",
    "    Q = []\n",
    "    g_score = {}\n",
    "    f_score = {}\n",
    "    h = {}\n",
    "    prev = {}\n",
    "    value = {}\n",
    "    \n",
    "    idx_row_max = len(graph) - 1\n",
    "    idx_col_max = len(graph[0]) - 1\n",
    "\n",
    "    for idx_row, row in enumerate(graph):\n",
    "        for idx_col, col in enumerate(row):\n",
    "            v = (idx_row, idx_col)\n",
    "            g_score[v] = np.inf\n",
    "            f_score[v] = np.inf\n",
    "            prev[v] = np.nan\n",
    "            value[v] = graph[v]\n",
    "            h[v] = idx_row_max - idx_row + idx_col_max - idx_col # Manhattan distance\n",
    "            heapq.heappush(Q, (np.inf, v))\n",
    "            \n",
    "\n",
    "    g_score[source] = 0\n",
    "    f_score[source] = h[source]\n",
    "    heapq.heappush(Q, (f_score[source], source))\n",
    "    \n",
    "    while len(Q) > 0:\n",
    "        u = heapq.heappop(Q)[1]\n",
    "        if u == target:\n",
    "            print('Found target')\n",
    "            break\n",
    "\n",
    "        neighbors = get_neigbor_nodes(index=u, grid=graph)\n",
    "        for neighbor in neighbors:\n",
    "            alt_g_score = g_score[u] + value[neighbor]\n",
    "            if alt_g_score < g_score[neighbor]:\n",
    "                g_score[neighbor] = alt_g_score\n",
    "                f_score[neighbor] = alt_g_score + h[neighbor]\n",
    "                prev[neighbor] = u\n",
    "                heapq.heappush(Q, (f_score[neighbor], neighbor))\n",
    "\n",
    "    return g_score, prev, Q\n",
    "\n",
    "\n",
    "t0 = time.time()\n",
    "grid = input_15\n",
    "g_score, prev, Q = a_star_heapq(graph=grid, source=(0,0), target=(len(grid)-1, len(grid[0])-1))\n",
    "print('Solution, total risk:', g_score[len(grid)-1, len(grid[0])-1])\n",
    "print('Runtime:', time.time()-t0)"
   ]
  },
  {
   "cell_type": "code",
   "execution_count": 59,
   "id": "f03616b3",
   "metadata": {},
   "outputs": [
    {
     "name": "stdout",
     "output_type": "stream",
     "text": [
      "Found target\n",
      "Solution, total risk: 2819\n",
      "Runtime: 8.3007972240448\n"
     ]
    }
   ],
   "source": [
    "grid = input_15\n",
    "n_keep = len(grid)\n",
    "grid_prev = grid.copy()\n",
    "n = 5\n",
    "\n",
    "for i in range(1, n):\n",
    "    grid = np.append(grid, grid_prev + 1, axis=0)\n",
    "    grid[grid > 9] = 1\n",
    "    grid_prev = grid[-n_keep:, :]\n",
    "\n",
    "grid_prev = grid.copy()\n",
    "for i in range(1, n):\n",
    "\n",
    "    grid = np.append(grid, grid_prev + 1, axis=1)\n",
    "    grid[grid > 9] = 1\n",
    "    grid_prev = grid[:, -n_keep:]\n",
    "    \n",
    "t0 = time.time()\n",
    "g_score, prev, Q = a_star_heapq(graph=grid, source=(0,0), target=(len(grid)-1, len(grid[0])-1))\n",
    "print('Solution, total risk:', g_score[len(grid)-1, len(grid[0])-1])\n",
    "print('Runtime:', time.time()-t0)"
   ]
  },
  {
   "cell_type": "markdown",
   "id": "88b8a84d",
   "metadata": {},
   "source": [
    "# December 20"
   ]
  },
  {
   "cell_type": "code",
   "execution_count": 60,
   "id": "f2b32d8b",
   "metadata": {},
   "outputs": [
    {
     "name": "stdout",
     "output_type": "stream",
     "text": [
      "Input length: 102\n"
     ]
    },
    {
     "data": {
      "text/plain": [
       "'0'"
      ]
     },
     "execution_count": 60,
     "metadata": {},
     "output_type": "execute_result"
    }
   ],
   "source": [
    "# data fetch\n",
    "def data_prep_20(data):\n",
    "    output_algo = data[0].replace('.', '0').replace('#', '1')\n",
    "    input_image = [i.replace('#', '1').replace('.', '0') for i in data[2:]]\n",
    "\n",
    "    return output_algo, input_image\n",
    "\n",
    "\n",
    "input_test = ['..#.#..#####.#.#.#.###.##.....###.##.#..###.####..#####..#....#..#..##..###..######.###...####..#..#####..##..#.#####...##.#.#..#.##..#.#......#.###.######.###.####...#.##.##..#..#..#####.....#.#....###..#.##......#.....#..#..#..##..#...##.######.####.####.#.#...#.......#..#.#.#...####.##.#......#..#...##.#.##..#...##.#.##..###.#......#.#.......#.#.#.####.###.##...#.....####.#..#..#.##.#....##..#.####....##...##..#...#......#.#.......#.......##..####..#...#.#.#...##..#.#..###..#####........#..####......#..#',\n",
    "              '',\n",
    "              '#..#.',\n",
    "              '#....',\n",
    "               '##..#',\n",
    "               '..#..',\n",
    "               '..###']\n",
    "\n",
    "input_20 = scrape_data(day=20)\n",
    "print('Input length:', len(input_20))\n",
    "\n",
    "output_algo, input_image = data_prep_20(input_20)\n",
    "output_algo[int('111111111',2)]"
   ]
  },
  {
   "cell_type": "code",
   "execution_count": 61,
   "id": "d5af2940",
   "metadata": {},
   "outputs": [
    {
     "data": {
      "text/plain": [
       "19012"
      ]
     },
     "execution_count": 61,
     "metadata": {},
     "output_type": "execute_result"
    }
   ],
   "source": [
    "def add_padding(img, pad_char):\n",
    "    img_padded = img.copy()\n",
    "    n_pad = 3\n",
    "    img_padded = [n_pad*pad_char + row + n_pad*pad_char for row in img_padded]\n",
    "    \n",
    "    n_row = len(img_padded[0])\n",
    "    for _ in range(n_pad):\n",
    "        img_padded = np.insert(img_padded, 0, pad_char*n_row)\n",
    "        img_padded = np.append(img_padded, pad_char*n_row)\n",
    "\n",
    "    return img_padded\n",
    "    \n",
    "def fetch_neighbor_inputs(img, idx):\n",
    "    row = idx[0]\n",
    "    col = idx[1]\n",
    "    seq = img[row - 1][col-1:col+2] + img[row][col-1:col+2] + img[row + 1][col-1:col+2]\n",
    "\n",
    "    return int(seq, 2)\n",
    "\n",
    "def get_output_image(input_img, pixel_algo, pad_char):\n",
    "    img_padded = add_padding(input_img, pad_char)\n",
    "    n_row = len(img_padded)\n",
    "    n_col = len(img_padded[0])\n",
    "    \n",
    "    img_output = []\n",
    "    for row in range(1, n_row - 1):\n",
    "        output_row = ''\n",
    "        for col in range(1, n_col - 1):\n",
    "            sequence = fetch_neighbor_inputs(img=img_padded, idx=(row, col))\n",
    "            pixel = pixel_algo[sequence]\n",
    "            output_row += pixel\n",
    "\n",
    "        img_output.append(output_row)\n",
    "    \n",
    "    return img_output\n",
    "\n",
    "def dec20_part1(data, steps):\n",
    "    output_algo, input_image = data_prep_20(data)\n",
    "    output_image = input_image.copy()\n",
    "    \n",
    "    padding_next = '0'\n",
    "\n",
    "    for step in range(0, steps):\n",
    "        output_image = get_output_image(input_img = output_image, pixel_algo=output_algo, pad_char=padding_next)\n",
    "        padding_next = output_algo[int(padding_next*9, 2)]\n",
    "    \n",
    "    lit_pixels = np.sum([i.count('1') for i in output_image])\n",
    "    \n",
    "    return output_image, lit_pixels\n",
    "\n",
    "output_image, lit_pixels = dec20_part1(data=input_20, steps=50)\n",
    "lit_pixels"
   ]
  },
  {
   "cell_type": "markdown",
   "id": "89c82f98",
   "metadata": {},
   "source": [
    "# December 17"
   ]
  },
  {
   "cell_type": "code",
   "execution_count": 62,
   "id": "61b78e3c",
   "metadata": {},
   "outputs": [],
   "source": [
    "# Part 1"
   ]
  },
  {
   "cell_type": "code",
   "execution_count": 63,
   "id": "f72be52c",
   "metadata": {},
   "outputs": [
    {
     "name": "stdout",
     "output_type": "stream",
     "text": [
      "Highest peak at 45.0 with velocity (6, 9)\n",
      "A total of 112 velocity pairs will hit the target\n"
     ]
    }
   ],
   "source": [
    "def trajectory_step(position, velocity):\n",
    "    px = position[0]\n",
    "    py = position[1]\n",
    "    vx = velocity[0]\n",
    "    vy = velocity[1]\n",
    "    \n",
    "    px_new = px + vx\n",
    "    py_new = py + vy\n",
    "    \n",
    "    vy_new = vy - 1\n",
    "    \n",
    "    if vx != 0:\n",
    "        vx_new = vx - np.sign(vx)\n",
    "    else:\n",
    "        vx_new = 0\n",
    "    \n",
    "    return (px_new, py_new), (vx_new, vy_new)\n",
    "\n",
    "\n",
    "def run_trajectory(pos_0, vel_0, target):\n",
    "    position = [pos_0]\n",
    "    velocity = [vel_0]\n",
    "    target_zone, x_max, y_min = create_target_zone(x_start=target[0][0],\n",
    "                                                   x_end=target[0][1],\n",
    "                                                   y_start=target[1][0],\n",
    "                                                   y_end=target[1][1])\n",
    "    pos_step = pos_0\n",
    "    vel_step = vel_0\n",
    "    \n",
    "    while True:\n",
    "        pos_step, vel_step = trajectory_step(pos_step, vel_step)\n",
    "        \n",
    "        position.append(pos_step)\n",
    "        velocity.append(vel_step)\n",
    "        \n",
    "        if pos_step in target_zone:\n",
    "            #print('HIT:', pos_step)\n",
    "            hit = True\n",
    "            break\n",
    "        elif (pos_step[0] > x_max) or (pos_step[1] < y_min):\n",
    "            #print('MISS:', pos_step)\n",
    "            hit = False\n",
    "            break\n",
    "            \n",
    "    return position, velocity, hit\n",
    "\n",
    "\n",
    "def create_target_zone(x_start, x_end, y_start, y_end):\n",
    "    target_zone = set()\n",
    "    if x_end > x_start:\n",
    "        x_min = x_start\n",
    "        x_max = x_end\n",
    "    else:\n",
    "        x_min = x_end\n",
    "        x_max = x_start\n",
    "        \n",
    "    if y_end > y_start:\n",
    "        y_min = y_start\n",
    "        y_max = y_end\n",
    "    else:\n",
    "        y_min = y_end\n",
    "        y_max = y_start\n",
    "    \n",
    "    for xi in range(x_min, x_max + 1):\n",
    "        for yi in range(y_min, y_max + 1):\n",
    "            target_zone.add((xi,yi))\n",
    "    \n",
    "    return target_zone, x_max, y_min\n",
    "\n",
    "def velocity_bounds_x(target):\n",
    "    xt_min = target[0][0]\n",
    "    xt_max = target[0][1]\n",
    "    vx0_min = np.ceil((np.sqrt(1 + 8*xt_min) - 1)/2)\n",
    "    vx0_max = np.floor(xt_max)\n",
    "\n",
    "    return int(vx0_min), int(vx0_max)\n",
    "\n",
    "def velocity_bounds_y(n_min, n_max, target):\n",
    "    yt_min = target[1][0]\n",
    "    yt_max = target[1][1]\n",
    "    vy0_max = int(np.floor((yt_max + n_min*(n_min - 1)/2)/n_min))\n",
    "    vy0_min = int(np.floor((yt_min + n_max*(n_max - 1)/2)/n_max))\n",
    "        \n",
    "    return min(vy0_min, vy0_max), max(vy0_min, vy0_max)\n",
    "\n",
    "def step_bounds(velocity, target):\n",
    "    xt_min = target[0][0]\n",
    "    xt_max = target[0][1]\n",
    "    yt_max = target[1][1]\n",
    "\n",
    "    n_min = int(np.ceil((2*velocity + 1 - np.sqrt((2*velocity + 1)**2 - 8*xt_min))/2))\n",
    "    \n",
    "    det = (2*velocity + 1)**2 - 8*xt_max\n",
    "    if det >= 0:\n",
    "        n_max = int(np.floor((2*velocity + 1 - np.sqrt(det))/2))\n",
    "    else:\n",
    "        n_max = np.abs(2*yt_max)\n",
    "\n",
    "    return n_min,  n_max\n",
    "\n",
    "def dec17_part1(target):\n",
    "    vx0_min, vx0_max = velocity_bounds_x(target=target)\n",
    "\n",
    "    ytop_max = 0\n",
    "    velocity_best = [0, 0]\n",
    "    velocity_hit_set = set()\n",
    "    print('Velocity range x:', vx0_min, vx0_max)\n",
    "    for vx0 in range(vx0_min, vx0_max + 1):\n",
    "        n_min, n_max = step_bounds(vx0, target=target)\n",
    "        vy0_min, vy0_max = velocity_bounds_y(n_min, n_max, target)\n",
    "        for vy0 in range(vy0_min, vy0_max + 1):\n",
    "            p,v,hit = run_trajectory((0,0), (vx0, vy0), target)\n",
    "            if hit:\n",
    "                velocity_hit_set.add((vx0,vy0))\n",
    "                ytop = vy0/2*(vy0 + 1)\n",
    "                if ytop > ytop_max:\n",
    "                    ytop_max = ytop\n",
    "                    #print(f'New max y with vel ({vx0, vy0}):', ytop_max)\n",
    "                    velocity_best = (vx0, vy0)\n",
    "                    \n",
    "    return ytop_max, velocity_best, velocity_hit_set\n",
    "\n",
    "def dec17_part2(target):\n",
    "    y_target_min = target[1][0]\n",
    "    y_target_max = target[1][1]\n",
    "    y_range = range(min(y_target_min, y_target_max), max(y_target_min, y_target_max) - np.sign(max(y_target_min, y_target_max)))\n",
    "    vx0_min, vx0_max = velocity_bounds_x(target=target)\n",
    "    ytop_max = 0\n",
    "    velocity_best = [0, 0]\n",
    "    velocity_hit_set = set()\n",
    "\n",
    "    for vx0 in range(vx0_min, vx0_max + 1):\n",
    "        n_min, n_max = step_bounds(vx0, target=target)\n",
    "        n_range = range(n_min, n_max + 1)\n",
    "        vy0_min, vy0_max = velocity_bounds_y(n_min, n_max, target)\n",
    "        for vy0 in range(vy0_min, vy0_max + 1):\n",
    "            for n in n_range:\n",
    "                y = vy0*n - n*(n - 1)/2\n",
    "                if y in y_range:\n",
    "\n",
    "                    velocity_hit_set.add((vx0,vy0))\n",
    "                    ytop = vy0/2*(vy0 + 1)\n",
    "                    if ytop > ytop_max:\n",
    "                        ytop_max = ytop\n",
    "                        velocity_best = (vx0, vy0)\n",
    "                    \n",
    "    return ytop_max, velocity_best, velocity_hit_set\n",
    "\n",
    "target_test = [(20,30), (-5, -10)]\n",
    "target = [(265,287), (-58, -103)]\n",
    "ytop_max, velocity_best, velocity_hit_count = dec17_part2(target = target_test)\n",
    "\n",
    "print(f'Highest peak at {ytop_max} with velocity {velocity_best}')\n",
    "print(f'A total of {len(velocity_hit_count)} velocity pairs will hit the target')"
   ]
  },
  {
   "cell_type": "markdown",
   "id": "54bfd8e3",
   "metadata": {},
   "source": [
    "# December 21"
   ]
  },
  {
   "cell_type": "code",
   "execution_count": 64,
   "id": "6c7f9408",
   "metadata": {},
   "outputs": [
    {
     "data": {
      "text/plain": [
       "[8, 4]"
      ]
     },
     "execution_count": 64,
     "metadata": {},
     "output_type": "execute_result"
    }
   ],
   "source": [
    "def data_prep_21(data):\n",
    "    data_prep = [int(player[-1]) for player in data]\n",
    "    return data_prep\n",
    "\n",
    "input_test = ['Player 1 starting position: 4','Player 2 starting position: 8']\n",
    "input_21 = scrape_data(day=21)\n",
    "data_prep_21(data=input_21)"
   ]
  },
  {
   "cell_type": "code",
   "execution_count": 65,
   "id": "4c0d03c0",
   "metadata": {},
   "outputs": [
    {
     "name": "stdout",
     "output_type": "stream",
     "text": [
      "504972\n"
     ]
    }
   ],
   "source": [
    "# Part 1\n",
    "def move_player(pos, moves):\n",
    "    p = (pos - 1 + moves) % 10 + 1\n",
    "#     if p == 0:\n",
    "#         new_pos = 10\n",
    "#     else:\n",
    "#         new_pos = p\n",
    "    new_pos = p\n",
    "    return new_pos\n",
    "\n",
    "def die_score(value_current):\n",
    "    die_max = 100\n",
    "    score = 3*value_current + 1 + 2\n",
    "    value_new = value_current + 3\n",
    "    return score, value_new\n",
    "\n",
    "def player_turn(player_pos, die_pos):\n",
    "    score, die_current = die_score(value_current=die_pos)\n",
    "    player_pos_new = move_player(pos=player_pos, moves=score)\n",
    "    \n",
    "    return player_pos_new, die_current\n",
    "\n",
    "def dec21_part1(data):\n",
    "    player_positions_start = data_prep_21(data)\n",
    "    pos_player_1 = player_positions_start[0]\n",
    "    pos_player_2 = player_positions_start[1]\n",
    "    \n",
    "    die_current = 1\n",
    "    score_player_1 = 0\n",
    "    score_player_2 = 0\n",
    "    die_rolls = 0\n",
    "    \n",
    "    while True:\n",
    "        pos_player_1, die_current = player_turn(player_pos=pos_player_1, die_pos=die_current)\n",
    "        score_player_1 += pos_player_1\n",
    "        die_rolls += 3\n",
    "        if (score_player_1 >= 1000):\n",
    "            break\n",
    "            \n",
    "        pos_player_2, die_current = player_turn(player_pos=pos_player_2, die_pos=die_current)\n",
    "        score_player_2 += pos_player_2\n",
    "        die_rolls += 3\n",
    "        if (score_player_2 >= 1000):\n",
    "            break\n",
    "\n",
    "    loser_score = min(score_player_1, score_player_2)\n",
    "    winner_score = max(score_player_1, score_player_2)\n",
    "\n",
    "    return loser_score, winner_score, die_rolls\n",
    "    \n",
    "loser_score, winner_score, die_rolls = dec21_part1(input_21)\n",
    "print(loser_score*die_rolls)"
   ]
  },
  {
   "cell_type": "markdown",
   "id": "9ec4f6a3",
   "metadata": {},
   "source": [
    "# December 25"
   ]
  },
  {
   "cell_type": "code",
   "execution_count": 66,
   "id": "c2b5548e",
   "metadata": {},
   "outputs": [
    {
     "name": "stdout",
     "output_type": "stream",
     "text": [
      "Input length: 137\n",
      "Test input:\n",
      " [['v' '.' '.' '.' '>' '>' '.' 'v' 'v' '>']\n",
      " ['.' 'v' 'v' '>' '>' '.' 'v' 'v' '.' '.']\n",
      " ['>' '>' '.' '>' 'v' '>' '.' '.' '.' 'v']\n",
      " ['>' '>' 'v' '>' '>' '.' '>' '.' 'v' '.']\n",
      " ['v' '>' 'v' '.' 'v' 'v' '.' 'v' '.' '.']\n",
      " ['>' '.' '>' '>' '.' '.' 'v' '.' '.' '.']\n",
      " ['.' 'v' 'v' '.' '.' '>' '.' '>' 'v' '.']\n",
      " ['v' '.' 'v' '.' '.' '>' '>' 'v' '.' 'v']\n",
      " ['.' '.' '.' '.' 'v' '.' '.' 'v' '.' '>']]\n"
     ]
    }
   ],
   "source": [
    "# December 25\n",
    "input_test = ['v...>>.vv>',\n",
    "              '.vv>>.vv..',\n",
    "                '>>.>v>...v',\n",
    "                '>>v>>.>.v.',\n",
    "                'v>v.vv.v..',\n",
    "                '>.>>..v...',\n",
    "                '.vv..>.>v.',\n",
    "                'v.v..>>v.v',\n",
    "                '....v..v.>']\n",
    "input_test = np.array([list(row) for row in input_test])\n",
    "input_25 = scrape_data(day=25)\n",
    "input_25 = np.array([list(row) for row in input_25])\n",
    "print('Input length:', len(input_25))\n",
    "print('Test input:\\n', np.array(input_test))"
   ]
  },
  {
   "cell_type": "code",
   "execution_count": 67,
   "id": "49f0ab0b",
   "metadata": {},
   "outputs": [
    {
     "name": "stdout",
     "output_type": "stream",
     "text": [
      "Answer: No movement at step: 432\n"
     ]
    }
   ],
   "source": [
    "def move_right(arr, symbol):\n",
    "    arr_exp = np.concatenate((arr, arr[:,0].reshape(-1,1)), axis=1)\n",
    "    arr_exp = np.insert(arr_exp, 0, arr[:,-1], axis=1)\n",
    "    \n",
    "    arr_symbol = (arr_exp == symbol)\n",
    "    arr_occupied = (arr_exp == '>') | (arr_exp == 'v')\n",
    "    \n",
    "    move_right = (arr_symbol[:, :-1]^arr_occupied[:, 1:])*arr_symbol[:, :-1]\n",
    "    move_cnt = np.sum(move_right)\n",
    "    \n",
    "    new_arr = arr.copy()\n",
    "    new_arr[move_right[:, 1:]]= '.'\n",
    "\n",
    "    new_arr[move_right[:, :-1]]= symbol\n",
    "\n",
    "    return new_arr, move_cnt\n",
    "\n",
    "def move_down(arr, symbol):\n",
    "    arr_new, cnt = move_right(arr.T, symbol=symbol)\n",
    "    \n",
    "    return arr_new.T, cnt \n",
    "\n",
    "def dec_25_part1(data):\n",
    "    steps = 0\n",
    "    while True:\n",
    "        steps += 1\n",
    "        data, cnt_right = move_right(data, symbol='>')\n",
    "        data, cnt_down = move_down(data, symbol='v')\n",
    "        \n",
    "        if cnt_right + cnt_down == 0:\n",
    "            break\n",
    "            \n",
    "    return steps\n",
    "\n",
    "steps = dec_25_part1(data=input_25)\n",
    "print('Answer: No movement at step:', steps)"
   ]
  }
 ],
 "metadata": {
  "kernelspec": {
   "display_name": "Python 3 (ipykernel)",
   "language": "python",
   "name": "python3"
  },
  "language_info": {
   "codemirror_mode": {
    "name": "ipython",
    "version": 3
   },
   "file_extension": ".py",
   "mimetype": "text/x-python",
   "name": "python",
   "nbconvert_exporter": "python",
   "pygments_lexer": "ipython3",
   "version": "3.9.9"
  }
 },
 "nbformat": 4,
 "nbformat_minor": 5
}
