{
 "cells": [
  {
   "cell_type": "code",
   "execution_count": 28,
   "id": "635aff9d",
   "metadata": {},
   "outputs": [],
   "source": [
    "import pandas as pd\n",
    "import numpy as np\n",
    "import time\n",
    "import inspect\n",
    "\n"
   ]
  },
  {
   "cell_type": "code",
   "execution_count": 30,
   "id": "60912fe3",
   "metadata": {},
   "outputs": [
    {
     "name": "stdout",
     "output_type": "stream",
     "text": [
      "ok\n",
      "Function runtime: 0.0\n"
     ]
    }
   ],
   "source": [
    "def timer_function(func=None):\n",
    "\n",
    "    ti = time.time()\n",
    "    func\n",
    "    tf = time.time()\n",
    "    \n",
    "    print(f'Function runtime: {tf - ti}')\n",
    "\n",
    "def test_func():\n",
    "    print('ok')\n",
    "    \n",
    "timer_function(func=test_func())\n"
   ]
  }
 ],
 "metadata": {
  "kernelspec": {
   "display_name": "Python 3 (ipykernel)",
   "language": "python",
   "name": "python3"
  },
  "language_info": {
   "codemirror_mode": {
    "name": "ipython",
    "version": 3
   },
   "file_extension": ".py",
   "mimetype": "text/x-python",
   "name": "python",
   "nbconvert_exporter": "python",
   "pygments_lexer": "ipython3",
   "version": "3.9.9"
  }
 },
 "nbformat": 4,
 "nbformat_minor": 5
}
